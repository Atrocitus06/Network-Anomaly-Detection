{
 "cells": [
  {
   "cell_type": "code",
   "execution_count": null,
   "id": "6c4a2d40",
   "metadata": {
    "_cell_guid": "b1076dfc-b9ad-4769-8c92-a6c4dae69d19",
    "_uuid": "8f2839f25d086af736a60e9eeb907d3b93b6e0e5",
    "execution": {
     "iopub.execute_input": "2025-02-22T18:52:02.494505Z",
     "iopub.status.busy": "2025-02-22T18:52:02.494175Z",
     "iopub.status.idle": "2025-02-22T18:52:03.199044Z",
     "shell.execute_reply": "2025-02-22T18:52:03.198094Z"
    },
    "papermill": {
     "duration": 0.719205,
     "end_time": "2025-02-22T18:52:03.200996",
     "exception": false,
     "start_time": "2025-02-22T18:52:02.481791",
     "status": "completed"
    },
    "tags": []
   },
   "outputs": [
    {
     "name": "stdout",
     "output_type": "stream",
     "text": [
      "/kaggle/input/network-intrusion-dataset/Friday-WorkingHours-Afternoon-PortScan.pcap_ISCX.csv\n",
      "/kaggle/input/network-intrusion-dataset/Thursday-WorkingHours-Morning-WebAttacks.pcap_ISCX.csv\n",
      "/kaggle/input/network-intrusion-dataset/Tuesday-WorkingHours.pcap_ISCX.csv\n",
      "/kaggle/input/network-intrusion-dataset/Friday-WorkingHours-Afternoon-DDos.pcap_ISCX.csv\n",
      "/kaggle/input/network-intrusion-dataset/Monday-WorkingHours.pcap_ISCX.csv\n",
      "/kaggle/input/network-intrusion-dataset/Friday-WorkingHours-Morning.pcap_ISCX.csv\n",
      "/kaggle/input/network-intrusion-dataset/Thursday-WorkingHours-Afternoon-Infilteration.pcap_ISCX.csv\n",
      "/kaggle/input/network-intrusion-dataset/Wednesday-workingHours.pcap_ISCX.csv\n"
     ]
    }
   ],
   "source": [
    "\n",
    "\n",
    "import numpy as np # linear algebra\n",
    "import pandas as pd # data processing, CSV file I/O (e.g. pd.read_csv)\n",
    "\n",
    "\n",
    "\n",
    "import os\n",
    "for dirname, _, filenames in os.walk('/kaggle/input'):\n",
    "    for filename in filenames:\n",
    "        print(os.path.join(dirname, filename))\n",
    "\n"
   ]
  },
  {
   "cell_type": "code",
   "execution_count": 2,
   "id": "3fd89a8f",
   "metadata": {
    "execution": {
     "iopub.execute_input": "2025-02-22T18:52:03.220646Z",
     "iopub.status.busy": "2025-02-22T18:52:03.220269Z",
     "iopub.status.idle": "2025-02-22T18:52:29.817306Z",
     "shell.execute_reply": "2025-02-22T18:52:29.816523Z"
    },
    "papermill": {
     "duration": 26.609159,
     "end_time": "2025-02-22T18:52:29.819400",
     "exception": false,
     "start_time": "2025-02-22T18:52:03.210241",
     "status": "completed"
    },
    "tags": []
   },
   "outputs": [],
   "source": [
    "df1= pd.read_csv(\"/kaggle/input/network-intrusion-dataset/Friday-WorkingHours-Afternoon-DDos.pcap_ISCX.csv\")\n",
    "df2=pd.read_csv(\"/kaggle/input/network-intrusion-dataset/Friday-WorkingHours-Afternoon-PortScan.pcap_ISCX.csv\")\n",
    "df3=pd.read_csv(\"/kaggle/input/network-intrusion-dataset/Friday-WorkingHours-Morning.pcap_ISCX.csv\")\n",
    "df4=pd.read_csv(\"/kaggle/input/network-intrusion-dataset/Monday-WorkingHours.pcap_ISCX.csv\")\n",
    "df5=pd.read_csv(\"/kaggle/input/network-intrusion-dataset/Thursday-WorkingHours-Afternoon-Infilteration.pcap_ISCX.csv\")\n",
    "df6=pd.read_csv(\"/kaggle/input/network-intrusion-dataset/Thursday-WorkingHours-Morning-WebAttacks.pcap_ISCX.csv\")\n",
    "df7=pd.read_csv(\"/kaggle/input/network-intrusion-dataset/Tuesday-WorkingHours.pcap_ISCX.csv\")\n",
    "df8=pd.read_csv(\"/kaggle/input/network-intrusion-dataset/Wednesday-workingHours.pcap_ISCX.csv\")\n"
   ]
  },
  {
   "cell_type": "code",
   "execution_count": 3,
   "id": "3ff8db9e",
   "metadata": {
    "execution": {
     "iopub.execute_input": "2025-02-22T18:52:29.839291Z",
     "iopub.status.busy": "2025-02-22T18:52:29.838518Z",
     "iopub.status.idle": "2025-02-22T18:52:29.842652Z",
     "shell.execute_reply": "2025-02-22T18:52:29.841916Z"
    },
    "papermill": {
     "duration": 0.01558,
     "end_time": "2025-02-22T18:52:29.844380",
     "exception": false,
     "start_time": "2025-02-22T18:52:29.828800",
     "status": "completed"
    },
    "tags": []
   },
   "outputs": [],
   "source": [
    "datasets = [df1,df2,df3,df4,df5,df6,df7,df8]"
   ]
  },
  {
   "cell_type": "code",
   "execution_count": 4,
   "id": "41380e1f",
   "metadata": {
    "execution": {
     "iopub.execute_input": "2025-02-22T18:52:29.864259Z",
     "iopub.status.busy": "2025-02-22T18:52:29.863890Z",
     "iopub.status.idle": "2025-02-22T18:52:29.986017Z",
     "shell.execute_reply": "2025-02-22T18:52:29.984995Z"
    },
    "papermill": {
     "duration": 0.134312,
     "end_time": "2025-02-22T18:52:29.987839",
     "exception": false,
     "start_time": "2025-02-22T18:52:29.853527",
     "status": "completed"
    },
    "tags": []
   },
   "outputs": [
    {
     "name": "stdout",
     "output_type": "stream",
     "text": [
      "Different type of Attacks on Server\n",
      "0: ['BENIGN' 'DDoS']\n",
      "1: ['BENIGN' 'PortScan']\n",
      "2: ['BENIGN' 'Bot']\n",
      "3: ['BENIGN']\n",
      "4: ['BENIGN' 'Infiltration']\n",
      "5: ['BENIGN' 'Web Attack � Brute Force' 'Web Attack � XSS'\n",
      " 'Web Attack � Sql Injection']\n",
      "6: ['BENIGN' 'FTP-Patator' 'SSH-Patator']\n",
      "7: ['BENIGN' 'DoS slowloris' 'DoS Slowhttptest' 'DoS Hulk' 'DoS GoldenEye'\n",
      " 'Heartbleed']\n"
     ]
    }
   ],
   "source": [
    "print(\"Different type of Attacks on Server\")\n",
    "for index, dataset in enumerate(datasets):\n",
    "    print(f\"{index}: {dataset[' Label'].unique()}\")"
   ]
  },
  {
   "cell_type": "code",
   "execution_count": 5,
   "id": "6b7ce37f",
   "metadata": {
    "execution": {
     "iopub.execute_input": "2025-02-22T18:52:30.008792Z",
     "iopub.status.busy": "2025-02-22T18:52:30.007932Z",
     "iopub.status.idle": "2025-02-22T18:52:30.441226Z",
     "shell.execute_reply": "2025-02-22T18:52:30.440240Z"
    },
    "papermill": {
     "duration": 0.446452,
     "end_time": "2025-02-22T18:52:30.443445",
     "exception": false,
     "start_time": "2025-02-22T18:52:29.996993",
     "status": "completed"
    },
    "tags": []
   },
   "outputs": [],
   "source": [
    "df=pd.concat([df1,df2,df3,df5,df6,df7,df8],join=\"inner\")\n"
   ]
  },
  {
   "cell_type": "code",
   "execution_count": 6,
   "id": "f8adbf1c",
   "metadata": {
    "execution": {
     "iopub.execute_input": "2025-02-22T18:52:30.463719Z",
     "iopub.status.busy": "2025-02-22T18:52:30.463088Z",
     "iopub.status.idle": "2025-02-22T18:52:30.575435Z",
     "shell.execute_reply": "2025-02-22T18:52:30.574515Z"
    },
    "papermill": {
     "duration": 0.124127,
     "end_time": "2025-02-22T18:52:30.577109",
     "exception": false,
     "start_time": "2025-02-22T18:52:30.452982",
     "status": "completed"
    },
    "tags": []
   },
   "outputs": [
    {
     "data": {
      "text/plain": [
       "array(['BENIGN', 'DDoS', 'PortScan', 'Bot', 'Infiltration',\n",
       "       'Web Attack � Brute Force', 'Web Attack � XSS',\n",
       "       'Web Attack � Sql Injection', 'FTP-Patator', 'SSH-Patator',\n",
       "       'DoS slowloris', 'DoS Slowhttptest', 'DoS Hulk', 'DoS GoldenEye',\n",
       "       'Heartbleed'], dtype=object)"
      ]
     },
     "execution_count": 6,
     "metadata": {},
     "output_type": "execute_result"
    }
   ],
   "source": [
    "df[\" Label\"].unique()"
   ]
  },
  {
   "cell_type": "code",
   "execution_count": 7,
   "id": "dd85df79",
   "metadata": {
    "execution": {
     "iopub.execute_input": "2025-02-22T18:52:30.596679Z",
     "iopub.status.busy": "2025-02-22T18:52:30.596372Z",
     "iopub.status.idle": "2025-02-22T18:52:30.600224Z",
     "shell.execute_reply": "2025-02-22T18:52:30.599385Z"
    },
    "papermill": {
     "duration": 0.015289,
     "end_time": "2025-02-22T18:52:30.601750",
     "exception": false,
     "start_time": "2025-02-22T18:52:30.586461",
     "status": "completed"
    },
    "tags": []
   },
   "outputs": [],
   "source": [
    "x = df[\" Label\"]"
   ]
  },
  {
   "cell_type": "code",
   "execution_count": 8,
   "id": "b1c3651b",
   "metadata": {
    "execution": {
     "iopub.execute_input": "2025-02-22T18:52:30.621249Z",
     "iopub.status.busy": "2025-02-22T18:52:30.620915Z",
     "iopub.status.idle": "2025-02-22T18:52:30.626101Z",
     "shell.execute_reply": "2025-02-22T18:52:30.625368Z"
    },
    "papermill": {
     "duration": 0.017032,
     "end_time": "2025-02-22T18:52:30.627819",
     "exception": false,
     "start_time": "2025-02-22T18:52:30.610787",
     "status": "completed"
    },
    "tags": []
   },
   "outputs": [
    {
     "data": {
      "text/plain": [
       "2300825"
      ]
     },
     "execution_count": 8,
     "metadata": {},
     "output_type": "execute_result"
    }
   ],
   "source": [
    "len(x)"
   ]
  },
  {
   "cell_type": "code",
   "execution_count": 9,
   "id": "a124b67b",
   "metadata": {
    "execution": {
     "iopub.execute_input": "2025-02-22T18:52:30.647190Z",
     "iopub.status.busy": "2025-02-22T18:52:30.646854Z",
     "iopub.status.idle": "2025-02-22T18:52:31.600768Z",
     "shell.execute_reply": "2025-02-22T18:52:31.600085Z"
    },
    "papermill": {
     "duration": 0.966022,
     "end_time": "2025-02-22T18:52:31.602866",
     "exception": false,
     "start_time": "2025-02-22T18:52:30.636844",
     "status": "completed"
    },
    "tags": []
   },
   "outputs": [],
   "source": [
    "df = df.dropna()"
   ]
  },
  {
   "cell_type": "code",
   "execution_count": 10,
   "id": "90088fc5",
   "metadata": {
    "execution": {
     "iopub.execute_input": "2025-02-22T18:52:31.623295Z",
     "iopub.status.busy": "2025-02-22T18:52:31.622921Z",
     "iopub.status.idle": "2025-02-22T18:52:31.628489Z",
     "shell.execute_reply": "2025-02-22T18:52:31.627695Z"
    },
    "papermill": {
     "duration": 0.01758,
     "end_time": "2025-02-22T18:52:31.630133",
     "exception": false,
     "start_time": "2025-02-22T18:52:31.612553",
     "status": "completed"
    },
    "tags": []
   },
   "outputs": [
    {
     "data": {
      "text/plain": [
       "(2299531, 79)"
      ]
     },
     "execution_count": 10,
     "metadata": {},
     "output_type": "execute_result"
    }
   ],
   "source": [
    "df.shape"
   ]
  },
  {
   "cell_type": "code",
   "execution_count": 11,
   "id": "02e81204",
   "metadata": {
    "execution": {
     "iopub.execute_input": "2025-02-22T18:52:31.649990Z",
     "iopub.status.busy": "2025-02-22T18:52:31.649646Z",
     "iopub.status.idle": "2025-02-22T18:52:31.658244Z",
     "shell.execute_reply": "2025-02-22T18:52:31.657381Z"
    },
    "papermill": {
     "duration": 0.020397,
     "end_time": "2025-02-22T18:52:31.660023",
     "exception": false,
     "start_time": "2025-02-22T18:52:31.639626",
     "status": "completed"
    },
    "tags": []
   },
   "outputs": [],
   "source": [
    "x = df[\" Label\"]"
   ]
  },
  {
   "cell_type": "code",
   "execution_count": 12,
   "id": "312175aa",
   "metadata": {
    "execution": {
     "iopub.execute_input": "2025-02-22T18:52:31.679798Z",
     "iopub.status.busy": "2025-02-22T18:52:31.679512Z",
     "iopub.status.idle": "2025-02-22T18:52:31.686307Z",
     "shell.execute_reply": "2025-02-22T18:52:31.685461Z"
    },
    "papermill": {
     "duration": 0.018892,
     "end_time": "2025-02-22T18:52:31.687985",
     "exception": false,
     "start_time": "2025-02-22T18:52:31.669093",
     "status": "completed"
    },
    "tags": []
   },
   "outputs": [
    {
     "data": {
      "text/plain": [
       "0         BENIGN\n",
       "1         BENIGN\n",
       "2         BENIGN\n",
       "3         BENIGN\n",
       "4         BENIGN\n",
       "           ...  \n",
       "692698    BENIGN\n",
       "692699    BENIGN\n",
       "692700    BENIGN\n",
       "692701    BENIGN\n",
       "692702    BENIGN\n",
       "Name:  Label, Length: 2299531, dtype: object"
      ]
     },
     "execution_count": 12,
     "metadata": {},
     "output_type": "execute_result"
    }
   ],
   "source": [
    "x"
   ]
  },
  {
   "cell_type": "code",
   "execution_count": 13,
   "id": "1002dcb8",
   "metadata": {
    "execution": {
     "iopub.execute_input": "2025-02-22T18:52:31.707983Z",
     "iopub.status.busy": "2025-02-22T18:52:31.707400Z",
     "iopub.status.idle": "2025-02-22T18:52:31.711131Z",
     "shell.execute_reply": "2025-02-22T18:52:31.710317Z"
    },
    "papermill": {
     "duration": 0.015461,
     "end_time": "2025-02-22T18:52:31.712699",
     "exception": false,
     "start_time": "2025-02-22T18:52:31.697238",
     "status": "completed"
    },
    "tags": []
   },
   "outputs": [],
   "source": [
    "arr = x"
   ]
  },
  {
   "cell_type": "code",
   "execution_count": 14,
   "id": "589927f7",
   "metadata": {
    "execution": {
     "iopub.execute_input": "2025-02-22T18:52:31.731918Z",
     "iopub.status.busy": "2025-02-22T18:52:31.731641Z",
     "iopub.status.idle": "2025-02-22T18:52:31.826765Z",
     "shell.execute_reply": "2025-02-22T18:52:31.825902Z"
    },
    "papermill": {
     "duration": 0.106811,
     "end_time": "2025-02-22T18:52:31.828544",
     "exception": false,
     "start_time": "2025-02-22T18:52:31.721733",
     "status": "completed"
    },
    "tags": []
   },
   "outputs": [
    {
     "data": {
      "text/plain": [
       "array(['BENIGN', 'DDoS', 'PortScan', 'Bot', 'Infiltration',\n",
       "       'Web Attack � Brute Force', 'Web Attack � XSS',\n",
       "       'Web Attack � Sql Injection', 'FTP-Patator', 'SSH-Patator',\n",
       "       'DoS slowloris', 'DoS Slowhttptest', 'DoS Hulk', 'DoS GoldenEye',\n",
       "       'Heartbleed'], dtype=object)"
      ]
     },
     "execution_count": 14,
     "metadata": {},
     "output_type": "execute_result"
    }
   ],
   "source": [
    "x.unique()"
   ]
  },
  {
   "cell_type": "code",
   "execution_count": null,
   "id": "e004287c",
   "metadata": {
    "execution": {
     "iopub.execute_input": "2025-02-22T18:52:31.848394Z",
     "iopub.status.busy": "2025-02-22T18:52:31.848092Z",
     "iopub.status.idle": "2025-02-22T18:52:32.167762Z",
     "shell.execute_reply": "2025-02-22T18:52:32.166846Z"
    },
    "papermill": {
     "duration": 0.331481,
     "end_time": "2025-02-22T18:52:32.169445",
     "exception": false,
     "start_time": "2025-02-22T18:52:31.837964",
     "status": "completed"
    },
    "tags": []
   },
   "outputs": [
    {
     "data": {
      "text/html": [
       "<div>\n",
       "<style scoped>\n",
       "    .dataframe tbody tr th:only-of-type {\n",
       "        vertical-align: middle;\n",
       "    }\n",
       "\n",
       "    .dataframe tbody tr th {\n",
       "        vertical-align: top;\n",
       "    }\n",
       "\n",
       "    .dataframe thead th {\n",
       "        text-align: right;\n",
       "    }\n",
       "</style>\n",
       "<table border=\"1\" class=\"dataframe\">\n",
       "  <thead>\n",
       "    <tr style=\"text-align: right;\">\n",
       "      <th></th>\n",
       "      <th>Destination Port</th>\n",
       "      <th>Flow Duration</th>\n",
       "      <th>Total Fwd Packets</th>\n",
       "      <th>Total Backward Packets</th>\n",
       "      <th>Total Length of Fwd Packets</th>\n",
       "      <th>Total Length of Bwd Packets</th>\n",
       "      <th>Fwd Packet Length Max</th>\n",
       "      <th>Fwd Packet Length Min</th>\n",
       "      <th>Fwd Packet Length Mean</th>\n",
       "      <th>Fwd Packet Length Std</th>\n",
       "      <th>...</th>\n",
       "      <th>min_seg_size_forward</th>\n",
       "      <th>Active Mean</th>\n",
       "      <th>Active Std</th>\n",
       "      <th>Active Max</th>\n",
       "      <th>Active Min</th>\n",
       "      <th>Idle Mean</th>\n",
       "      <th>Idle Std</th>\n",
       "      <th>Idle Max</th>\n",
       "      <th>Idle Min</th>\n",
       "      <th>Label</th>\n",
       "    </tr>\n",
       "  </thead>\n",
       "  <tbody>\n",
       "    <tr>\n",
       "      <th>0</th>\n",
       "      <td>54865</td>\n",
       "      <td>3</td>\n",
       "      <td>2</td>\n",
       "      <td>0</td>\n",
       "      <td>12</td>\n",
       "      <td>0</td>\n",
       "      <td>6</td>\n",
       "      <td>6</td>\n",
       "      <td>6.0</td>\n",
       "      <td>0.0</td>\n",
       "      <td>...</td>\n",
       "      <td>20</td>\n",
       "      <td>0.0</td>\n",
       "      <td>0.0</td>\n",
       "      <td>0</td>\n",
       "      <td>0</td>\n",
       "      <td>0.0</td>\n",
       "      <td>0.0</td>\n",
       "      <td>0</td>\n",
       "      <td>0</td>\n",
       "      <td>BENIGN</td>\n",
       "    </tr>\n",
       "    <tr>\n",
       "      <th>1</th>\n",
       "      <td>55054</td>\n",
       "      <td>109</td>\n",
       "      <td>1</td>\n",
       "      <td>1</td>\n",
       "      <td>6</td>\n",
       "      <td>6</td>\n",
       "      <td>6</td>\n",
       "      <td>6</td>\n",
       "      <td>6.0</td>\n",
       "      <td>0.0</td>\n",
       "      <td>...</td>\n",
       "      <td>20</td>\n",
       "      <td>0.0</td>\n",
       "      <td>0.0</td>\n",
       "      <td>0</td>\n",
       "      <td>0</td>\n",
       "      <td>0.0</td>\n",
       "      <td>0.0</td>\n",
       "      <td>0</td>\n",
       "      <td>0</td>\n",
       "      <td>BENIGN</td>\n",
       "    </tr>\n",
       "    <tr>\n",
       "      <th>2</th>\n",
       "      <td>55055</td>\n",
       "      <td>52</td>\n",
       "      <td>1</td>\n",
       "      <td>1</td>\n",
       "      <td>6</td>\n",
       "      <td>6</td>\n",
       "      <td>6</td>\n",
       "      <td>6</td>\n",
       "      <td>6.0</td>\n",
       "      <td>0.0</td>\n",
       "      <td>...</td>\n",
       "      <td>20</td>\n",
       "      <td>0.0</td>\n",
       "      <td>0.0</td>\n",
       "      <td>0</td>\n",
       "      <td>0</td>\n",
       "      <td>0.0</td>\n",
       "      <td>0.0</td>\n",
       "      <td>0</td>\n",
       "      <td>0</td>\n",
       "      <td>BENIGN</td>\n",
       "    </tr>\n",
       "    <tr>\n",
       "      <th>3</th>\n",
       "      <td>46236</td>\n",
       "      <td>34</td>\n",
       "      <td>1</td>\n",
       "      <td>1</td>\n",
       "      <td>6</td>\n",
       "      <td>6</td>\n",
       "      <td>6</td>\n",
       "      <td>6</td>\n",
       "      <td>6.0</td>\n",
       "      <td>0.0</td>\n",
       "      <td>...</td>\n",
       "      <td>20</td>\n",
       "      <td>0.0</td>\n",
       "      <td>0.0</td>\n",
       "      <td>0</td>\n",
       "      <td>0</td>\n",
       "      <td>0.0</td>\n",
       "      <td>0.0</td>\n",
       "      <td>0</td>\n",
       "      <td>0</td>\n",
       "      <td>BENIGN</td>\n",
       "    </tr>\n",
       "    <tr>\n",
       "      <th>4</th>\n",
       "      <td>54863</td>\n",
       "      <td>3</td>\n",
       "      <td>2</td>\n",
       "      <td>0</td>\n",
       "      <td>12</td>\n",
       "      <td>0</td>\n",
       "      <td>6</td>\n",
       "      <td>6</td>\n",
       "      <td>6.0</td>\n",
       "      <td>0.0</td>\n",
       "      <td>...</td>\n",
       "      <td>20</td>\n",
       "      <td>0.0</td>\n",
       "      <td>0.0</td>\n",
       "      <td>0</td>\n",
       "      <td>0</td>\n",
       "      <td>0.0</td>\n",
       "      <td>0.0</td>\n",
       "      <td>0</td>\n",
       "      <td>0</td>\n",
       "      <td>BENIGN</td>\n",
       "    </tr>\n",
       "  </tbody>\n",
       "</table>\n",
       "<p>5 rows × 79 columns</p>\n",
       "</div>"
      ],
      "text/plain": [
       "    Destination Port   Flow Duration   Total Fwd Packets  \\\n",
       "0              54865               3                   2   \n",
       "1              55054             109                   1   \n",
       "2              55055              52                   1   \n",
       "3              46236              34                   1   \n",
       "4              54863               3                   2   \n",
       "\n",
       "    Total Backward Packets  Total Length of Fwd Packets  \\\n",
       "0                        0                           12   \n",
       "1                        1                            6   \n",
       "2                        1                            6   \n",
       "3                        1                            6   \n",
       "4                        0                           12   \n",
       "\n",
       "    Total Length of Bwd Packets   Fwd Packet Length Max  \\\n",
       "0                             0                       6   \n",
       "1                             6                       6   \n",
       "2                             6                       6   \n",
       "3                             6                       6   \n",
       "4                             0                       6   \n",
       "\n",
       "    Fwd Packet Length Min   Fwd Packet Length Mean   Fwd Packet Length Std  \\\n",
       "0                       6                      6.0                     0.0   \n",
       "1                       6                      6.0                     0.0   \n",
       "2                       6                      6.0                     0.0   \n",
       "3                       6                      6.0                     0.0   \n",
       "4                       6                      6.0                     0.0   \n",
       "\n",
       "   ...   min_seg_size_forward  Active Mean   Active Std   Active Max  \\\n",
       "0  ...                     20          0.0          0.0            0   \n",
       "1  ...                     20          0.0          0.0            0   \n",
       "2  ...                     20          0.0          0.0            0   \n",
       "3  ...                     20          0.0          0.0            0   \n",
       "4  ...                     20          0.0          0.0            0   \n",
       "\n",
       "    Active Min  Idle Mean   Idle Std   Idle Max   Idle Min   Label  \n",
       "0            0        0.0        0.0          0          0  BENIGN  \n",
       "1            0        0.0        0.0          0          0  BENIGN  \n",
       "2            0        0.0        0.0          0          0  BENIGN  \n",
       "3            0        0.0        0.0          0          0  BENIGN  \n",
       "4            0        0.0        0.0          0          0  BENIGN  \n",
       "\n",
       "[5 rows x 79 columns]"
      ]
     },
     "execution_count": 15,
     "metadata": {},
     "output_type": "execute_result"
    }
   ],
   "source": [
    "conditions = [\n",
    "    df[' Label'].isin([\"DDoS\", \"DoS slowloris\", \"DoS Slowhttptest\", \"DoS Hulk\", \"DoS GoldenEye\"]),\n",
    "    df[' Label'].isin([\"Web Attack � Brute Force\", \"Web Attack � XSS\", \"Web Attack � Sql Injection\"]),\n",
    "    df[' Label'].isin(['FTP-Patator', 'SSH-Patator']),\n",
    "]\n",
    "\n",
    "choices = ['DosFam', 'WebAttack', 'Patator']\n",
    "\n",
    "\n",
    "df[' Label'] = np.select(conditions, choices, default=df[' Label'])\n",
    "\n",
    "\n",
    "df.head()"
   ]
  },
  {
   "cell_type": "code",
   "execution_count": 16,
   "id": "f622905a",
   "metadata": {
    "execution": {
     "iopub.execute_input": "2025-02-22T18:52:32.190677Z",
     "iopub.status.busy": "2025-02-22T18:52:32.190069Z",
     "iopub.status.idle": "2025-02-22T18:52:32.287479Z",
     "shell.execute_reply": "2025-02-22T18:52:32.286567Z"
    },
    "papermill": {
     "duration": 0.109881,
     "end_time": "2025-02-22T18:52:32.289244",
     "exception": false,
     "start_time": "2025-02-22T18:52:32.179363",
     "status": "completed"
    },
    "tags": []
   },
   "outputs": [
    {
     "data": {
      "text/plain": [
       "array(['BENIGN', 'DosFam', 'PortScan', 'Bot', 'Infiltration', 'WebAttack',\n",
       "       'Patator', 'Heartbleed'], dtype=object)"
      ]
     },
     "execution_count": 16,
     "metadata": {},
     "output_type": "execute_result"
    }
   ],
   "source": [
    "df[' Label'].unique()"
   ]
  },
  {
   "cell_type": "code",
   "execution_count": 17,
   "id": "117a419b",
   "metadata": {
    "execution": {
     "iopub.execute_input": "2025-02-22T18:52:32.310908Z",
     "iopub.status.busy": "2025-02-22T18:52:32.310112Z",
     "iopub.status.idle": "2025-02-22T18:52:43.267588Z",
     "shell.execute_reply": "2025-02-22T18:52:43.266673Z"
    },
    "papermill": {
     "duration": 10.970249,
     "end_time": "2025-02-22T18:52:43.269477",
     "exception": false,
     "start_time": "2025-02-22T18:52:32.299228",
     "status": "completed"
    },
    "tags": []
   },
   "outputs": [
    {
     "name": "stderr",
     "output_type": "stream",
     "text": [
      "/opt/conda/lib/python3.10/site-packages/seaborn/_oldcore.py:1119: FutureWarning: use_inf_as_na option is deprecated and will be removed in a future version. Convert inf values to NaN before operating instead.\n",
      "  with pd.option_context('mode.use_inf_as_na', True):\n"
     ]
    },
    {
     "data": {
      "text/plain": [
       "<Axes: xlabel=' Label', ylabel='Count'>"
      ]
     },
     "execution_count": 17,
     "metadata": {},
     "output_type": "execute_result"
    },
    {
     "data": {
      "image/png": "[encoded data removed]",
      "text/plain": [
       "<Figure size 1000x500 with 1 Axes>"
      ]
     },
     "metadata": {},
     "output_type": "display_data"
    }
   ],
   "source": [
    "import seaborn as sns\n",
    "import matplotlib.pyplot as plt\n",
    "plt.figure(figsize=(10, 5))\n",
    "sns.histplot(data=df,x=\" Label\",kde=True)"
   ]
  },
  {
   "cell_type": "code",
   "execution_count": 18,
   "id": "bd6cc542",
   "metadata": {
    "execution": {
     "iopub.execute_input": "2025-02-22T18:52:43.291553Z",
     "iopub.status.busy": "2025-02-22T18:52:43.290815Z",
     "iopub.status.idle": "2025-02-22T18:52:44.556412Z",
     "shell.execute_reply": "2025-02-22T18:52:44.555465Z"
    },
    "papermill": {
     "duration": 1.278326,
     "end_time": "2025-02-22T18:52:44.558154",
     "exception": false,
     "start_time": "2025-02-22T18:52:43.279828",
     "status": "completed"
    },
    "tags": []
   },
   "outputs": [
    {
     "data": {
      "text/plain": [
       "<Axes: xlabel=' Label', ylabel='count'>"
      ]
     },
     "execution_count": 18,
     "metadata": {},
     "output_type": "execute_result"
    },
    {
     "data": {
      "image/png": "[encoded data removed]",
      "text/plain": [
       "<Figure size 1000x500 with 1 Axes>"
      ]
     },
     "metadata": {},
     "output_type": "display_data"
    }
   ],
   "source": [
    "plt.figure(figsize=(10, 5))\n",
    "sns.countplot(data=df,x=\" Label\")"
   ]
  },
  {
   "cell_type": "code",
   "execution_count": 19,
   "id": "44dbdc9d",
   "metadata": {
    "execution": {
     "iopub.execute_input": "2025-02-22T18:52:44.581124Z",
     "iopub.status.busy": "2025-02-22T18:52:44.580379Z",
     "iopub.status.idle": "2025-02-22T18:52:44.735098Z",
     "shell.execute_reply": "2025-02-22T18:52:44.734209Z"
    },
    "papermill": {
     "duration": 0.168006,
     "end_time": "2025-02-22T18:52:44.737031",
     "exception": false,
     "start_time": "2025-02-22T18:52:44.569025",
     "status": "completed"
    },
    "tags": []
   },
   "outputs": [
    {
     "name": "stdout",
     "output_type": "stream",
     "text": [
      " Label\n",
      "BENIGN          75.790846\n",
      "DosFam          16.513759\n",
      "PortScan         6.911409\n",
      "Patator          0.601644\n",
      "WebAttack        0.094802\n",
      "Bot              0.085496\n",
      "Infiltration     0.001566\n",
      "Heartbleed       0.000478\n",
      "Name: proportion, dtype: float64\n"
     ]
    }
   ],
   "source": [
    "label_percentages = df[' Label'].value_counts(normalize=True) * 100\n",
    "print(label_percentages)"
   ]
  },
  {
   "cell_type": "code",
   "execution_count": 20,
   "id": "2b86ce57",
   "metadata": {
    "execution": {
     "iopub.execute_input": "2025-02-22T18:52:44.760296Z",
     "iopub.status.busy": "2025-02-22T18:52:44.759931Z",
     "iopub.status.idle": "2025-02-22T18:52:46.241744Z",
     "shell.execute_reply": "2025-02-22T18:52:46.241021Z"
    },
    "papermill": {
     "duration": 1.495847,
     "end_time": "2025-02-22T18:52:46.243696",
     "exception": false,
     "start_time": "2025-02-22T18:52:44.747849",
     "status": "completed"
    },
    "tags": []
   },
   "outputs": [],
   "source": [
    "df_attack = df.copy()"
   ]
  },
  {
   "cell_type": "code",
   "execution_count": 21,
   "id": "fe5705e4",
   "metadata": {
    "execution": {
     "iopub.execute_input": "2025-02-22T18:52:46.268242Z",
     "iopub.status.busy": "2025-02-22T18:52:46.267881Z",
     "iopub.status.idle": "2025-02-22T18:52:46.368882Z",
     "shell.execute_reply": "2025-02-22T18:52:46.367993Z"
    },
    "papermill": {
     "duration": 0.115107,
     "end_time": "2025-02-22T18:52:46.370508",
     "exception": false,
     "start_time": "2025-02-22T18:52:46.255401",
     "status": "completed"
    },
    "tags": []
   },
   "outputs": [
    {
     "data": {
      "text/plain": [
       "array(['BENIGN', 'DosFam', 'PortScan', 'Bot', 'Infiltration', 'WebAttack',\n",
       "       'Patator', 'Heartbleed'], dtype=object)"
      ]
     },
     "execution_count": 21,
     "metadata": {},
     "output_type": "execute_result"
    }
   ],
   "source": [
    "df[' Label'].unique()"
   ]
  },
  {
   "cell_type": "code",
   "execution_count": null,
   "id": "c93570f9",
   "metadata": {
    "execution": {
     "iopub.execute_input": "2025-02-22T18:52:46.394517Z",
     "iopub.status.busy": "2025-02-22T18:52:46.394186Z",
     "iopub.status.idle": "2025-02-22T18:52:46.587832Z",
     "shell.execute_reply": "2025-02-22T18:52:46.586955Z"
    },
    "papermill": {
     "duration": 0.208072,
     "end_time": "2025-02-22T18:52:46.589614",
     "exception": false,
     "start_time": "2025-02-22T18:52:46.381542",
     "status": "completed"
    },
    "tags": []
   },
   "outputs": [
    {
     "data": {
      "text/html": [
       "<div>\n",
       "<style scoped>\n",
       "    .dataframe tbody tr th:only-of-type {\n",
       "        vertical-align: middle;\n",
       "    }\n",
       "\n",
       "    .dataframe tbody tr th {\n",
       "        vertical-align: top;\n",
       "    }\n",
       "\n",
       "    .dataframe thead th {\n",
       "        text-align: right;\n",
       "    }\n",
       "</style>\n",
       "<table border=\"1\" class=\"dataframe\">\n",
       "  <thead>\n",
       "    <tr style=\"text-align: right;\">\n",
       "      <th></th>\n",
       "      <th>Destination Port</th>\n",
       "      <th>Flow Duration</th>\n",
       "      <th>Total Fwd Packets</th>\n",
       "      <th>Total Backward Packets</th>\n",
       "      <th>Total Length of Fwd Packets</th>\n",
       "      <th>Total Length of Bwd Packets</th>\n",
       "      <th>Fwd Packet Length Max</th>\n",
       "      <th>Fwd Packet Length Min</th>\n",
       "      <th>Fwd Packet Length Mean</th>\n",
       "      <th>Fwd Packet Length Std</th>\n",
       "      <th>...</th>\n",
       "      <th>min_seg_size_forward</th>\n",
       "      <th>Active Mean</th>\n",
       "      <th>Active Std</th>\n",
       "      <th>Active Max</th>\n",
       "      <th>Active Min</th>\n",
       "      <th>Idle Mean</th>\n",
       "      <th>Idle Std</th>\n",
       "      <th>Idle Max</th>\n",
       "      <th>Idle Min</th>\n",
       "      <th>Label</th>\n",
       "    </tr>\n",
       "  </thead>\n",
       "  <tbody>\n",
       "    <tr>\n",
       "      <th>0</th>\n",
       "      <td>54865</td>\n",
       "      <td>3</td>\n",
       "      <td>2</td>\n",
       "      <td>0</td>\n",
       "      <td>12</td>\n",
       "      <td>0</td>\n",
       "      <td>6</td>\n",
       "      <td>6</td>\n",
       "      <td>6.0</td>\n",
       "      <td>0.0</td>\n",
       "      <td>...</td>\n",
       "      <td>20</td>\n",
       "      <td>0.0</td>\n",
       "      <td>0.0</td>\n",
       "      <td>0</td>\n",
       "      <td>0</td>\n",
       "      <td>0.0</td>\n",
       "      <td>0.0</td>\n",
       "      <td>0</td>\n",
       "      <td>0</td>\n",
       "      <td>BENIGN</td>\n",
       "    </tr>\n",
       "    <tr>\n",
       "      <th>1</th>\n",
       "      <td>55054</td>\n",
       "      <td>109</td>\n",
       "      <td>1</td>\n",
       "      <td>1</td>\n",
       "      <td>6</td>\n",
       "      <td>6</td>\n",
       "      <td>6</td>\n",
       "      <td>6</td>\n",
       "      <td>6.0</td>\n",
       "      <td>0.0</td>\n",
       "      <td>...</td>\n",
       "      <td>20</td>\n",
       "      <td>0.0</td>\n",
       "      <td>0.0</td>\n",
       "      <td>0</td>\n",
       "      <td>0</td>\n",
       "      <td>0.0</td>\n",
       "      <td>0.0</td>\n",
       "      <td>0</td>\n",
       "      <td>0</td>\n",
       "      <td>BENIGN</td>\n",
       "    </tr>\n",
       "    <tr>\n",
       "      <th>2</th>\n",
       "      <td>55055</td>\n",
       "      <td>52</td>\n",
       "      <td>1</td>\n",
       "      <td>1</td>\n",
       "      <td>6</td>\n",
       "      <td>6</td>\n",
       "      <td>6</td>\n",
       "      <td>6</td>\n",
       "      <td>6.0</td>\n",
       "      <td>0.0</td>\n",
       "      <td>...</td>\n",
       "      <td>20</td>\n",
       "      <td>0.0</td>\n",
       "      <td>0.0</td>\n",
       "      <td>0</td>\n",
       "      <td>0</td>\n",
       "      <td>0.0</td>\n",
       "      <td>0.0</td>\n",
       "      <td>0</td>\n",
       "      <td>0</td>\n",
       "      <td>BENIGN</td>\n",
       "    </tr>\n",
       "    <tr>\n",
       "      <th>3</th>\n",
       "      <td>46236</td>\n",
       "      <td>34</td>\n",
       "      <td>1</td>\n",
       "      <td>1</td>\n",
       "      <td>6</td>\n",
       "      <td>6</td>\n",
       "      <td>6</td>\n",
       "      <td>6</td>\n",
       "      <td>6.0</td>\n",
       "      <td>0.0</td>\n",
       "      <td>...</td>\n",
       "      <td>20</td>\n",
       "      <td>0.0</td>\n",
       "      <td>0.0</td>\n",
       "      <td>0</td>\n",
       "      <td>0</td>\n",
       "      <td>0.0</td>\n",
       "      <td>0.0</td>\n",
       "      <td>0</td>\n",
       "      <td>0</td>\n",
       "      <td>BENIGN</td>\n",
       "    </tr>\n",
       "    <tr>\n",
       "      <th>4</th>\n",
       "      <td>54863</td>\n",
       "      <td>3</td>\n",
       "      <td>2</td>\n",
       "      <td>0</td>\n",
       "      <td>12</td>\n",
       "      <td>0</td>\n",
       "      <td>6</td>\n",
       "      <td>6</td>\n",
       "      <td>6.0</td>\n",
       "      <td>0.0</td>\n",
       "      <td>...</td>\n",
       "      <td>20</td>\n",
       "      <td>0.0</td>\n",
       "      <td>0.0</td>\n",
       "      <td>0</td>\n",
       "      <td>0</td>\n",
       "      <td>0.0</td>\n",
       "      <td>0.0</td>\n",
       "      <td>0</td>\n",
       "      <td>0</td>\n",
       "      <td>BENIGN</td>\n",
       "    </tr>\n",
       "  </tbody>\n",
       "</table>\n",
       "<p>5 rows × 79 columns</p>\n",
       "</div>"
      ],
      "text/plain": [
       "    Destination Port   Flow Duration   Total Fwd Packets  \\\n",
       "0              54865               3                   2   \n",
       "1              55054             109                   1   \n",
       "2              55055              52                   1   \n",
       "3              46236              34                   1   \n",
       "4              54863               3                   2   \n",
       "\n",
       "    Total Backward Packets  Total Length of Fwd Packets  \\\n",
       "0                        0                           12   \n",
       "1                        1                            6   \n",
       "2                        1                            6   \n",
       "3                        1                            6   \n",
       "4                        0                           12   \n",
       "\n",
       "    Total Length of Bwd Packets   Fwd Packet Length Max  \\\n",
       "0                             0                       6   \n",
       "1                             6                       6   \n",
       "2                             6                       6   \n",
       "3                             6                       6   \n",
       "4                             0                       6   \n",
       "\n",
       "    Fwd Packet Length Min   Fwd Packet Length Mean   Fwd Packet Length Std  \\\n",
       "0                       6                      6.0                     0.0   \n",
       "1                       6                      6.0                     0.0   \n",
       "2                       6                      6.0                     0.0   \n",
       "3                       6                      6.0                     0.0   \n",
       "4                       6                      6.0                     0.0   \n",
       "\n",
       "   ...   min_seg_size_forward  Active Mean   Active Std   Active Max  \\\n",
       "0  ...                     20          0.0          0.0            0   \n",
       "1  ...                     20          0.0          0.0            0   \n",
       "2  ...                     20          0.0          0.0            0   \n",
       "3  ...                     20          0.0          0.0            0   \n",
       "4  ...                     20          0.0          0.0            0   \n",
       "\n",
       "    Active Min  Idle Mean   Idle Std   Idle Max   Idle Min   Label  \n",
       "0            0        0.0        0.0          0          0  BENIGN  \n",
       "1            0        0.0        0.0          0          0  BENIGN  \n",
       "2            0        0.0        0.0          0          0  BENIGN  \n",
       "3            0        0.0        0.0          0          0  BENIGN  \n",
       "4            0        0.0        0.0          0          0  BENIGN  \n",
       "\n",
       "[5 rows x 79 columns]"
      ]
     },
     "execution_count": 22,
     "metadata": {},
     "output_type": "execute_result"
    }
   ],
   "source": [
    "import numpy as np\n",
    "\n",
    "cond = [\n",
    "    df_attack[' Label'].isin([\"DosFam\", \"PortScan\", \"Patator\", \"WebAttack\", \"Bot\",\"Infiltration\",\"Heartbleed\"]),\n",
    "]\n",
    "\n",
    "choic = ['Attack']\n",
    "\n",
    "df_attack[' Label'] = np.select(cond, choic, default=df_attack[' Label'])\n",
    "\n",
    "df_attack.head()"
   ]
  },
  {
   "cell_type": "code",
   "execution_count": 23,
   "id": "6cceeee7",
   "metadata": {
    "execution": {
     "iopub.execute_input": "2025-02-22T18:52:46.613274Z",
     "iopub.status.busy": "2025-02-22T18:52:46.612923Z",
     "iopub.status.idle": "2025-02-22T18:52:48.715372Z",
     "shell.execute_reply": "2025-02-22T18:52:48.714383Z"
    },
    "papermill": {
     "duration": 2.116353,
     "end_time": "2025-02-22T18:52:48.717311",
     "exception": false,
     "start_time": "2025-02-22T18:52:46.600958",
     "status": "completed"
    },
    "tags": []
   },
   "outputs": [
    {
     "name": "stderr",
     "output_type": "stream",
     "text": [
      "/opt/conda/lib/python3.10/site-packages/seaborn/_oldcore.py:1119: FutureWarning: use_inf_as_na option is deprecated and will be removed in a future version. Convert inf values to NaN before operating instead.\n",
      "  with pd.option_context('mode.use_inf_as_na', True):\n"
     ]
    },
    {
     "data": {
      "text/plain": [
       "<Axes: xlabel=' Label', ylabel='Count'>"
      ]
     },
     "execution_count": 23,
     "metadata": {},
     "output_type": "execute_result"
    },
    {
     "data": {
      "image/png": "[encoded data removed]",
      "text/plain": [
       "<Figure size 640x480 with 1 Axes>"
      ]
     },
     "metadata": {},
     "output_type": "display_data"
    }
   ],
   "source": [
    "sns.histplot(data=df_attack,x=\" Label\")"
   ]
  },
  {
   "cell_type": "code",
   "execution_count": 24,
   "id": "64e32fc0",
   "metadata": {
    "execution": {
     "iopub.execute_input": "2025-02-22T18:52:48.742618Z",
     "iopub.status.busy": "2025-02-22T18:52:48.741988Z",
     "iopub.status.idle": "2025-02-22T18:52:48.759696Z",
     "shell.execute_reply": "2025-02-22T18:52:48.758892Z"
    },
    "papermill": {
     "duration": 0.031851,
     "end_time": "2025-02-22T18:52:48.761206",
     "exception": false,
     "start_time": "2025-02-22T18:52:48.729355",
     "status": "completed"
    },
    "tags": []
   },
   "outputs": [
    {
     "data": {
      "text/html": [
       "<div>\n",
       "<style scoped>\n",
       "    .dataframe tbody tr th:only-of-type {\n",
       "        vertical-align: middle;\n",
       "    }\n",
       "\n",
       "    .dataframe tbody tr th {\n",
       "        vertical-align: top;\n",
       "    }\n",
       "\n",
       "    .dataframe thead th {\n",
       "        text-align: right;\n",
       "    }\n",
       "</style>\n",
       "<table border=\"1\" class=\"dataframe\">\n",
       "  <thead>\n",
       "    <tr style=\"text-align: right;\">\n",
       "      <th></th>\n",
       "      <th>Destination Port</th>\n",
       "      <th>Flow Duration</th>\n",
       "      <th>Total Fwd Packets</th>\n",
       "      <th>Total Backward Packets</th>\n",
       "      <th>Total Length of Fwd Packets</th>\n",
       "      <th>Total Length of Bwd Packets</th>\n",
       "      <th>Fwd Packet Length Max</th>\n",
       "      <th>Fwd Packet Length Min</th>\n",
       "      <th>Fwd Packet Length Mean</th>\n",
       "      <th>Fwd Packet Length Std</th>\n",
       "      <th>...</th>\n",
       "      <th>min_seg_size_forward</th>\n",
       "      <th>Active Mean</th>\n",
       "      <th>Active Std</th>\n",
       "      <th>Active Max</th>\n",
       "      <th>Active Min</th>\n",
       "      <th>Idle Mean</th>\n",
       "      <th>Idle Std</th>\n",
       "      <th>Idle Max</th>\n",
       "      <th>Idle Min</th>\n",
       "      <th>Label</th>\n",
       "    </tr>\n",
       "  </thead>\n",
       "  <tbody>\n",
       "    <tr>\n",
       "      <th>0</th>\n",
       "      <td>54865</td>\n",
       "      <td>3</td>\n",
       "      <td>2</td>\n",
       "      <td>0</td>\n",
       "      <td>12</td>\n",
       "      <td>0</td>\n",
       "      <td>6</td>\n",
       "      <td>6</td>\n",
       "      <td>6.0</td>\n",
       "      <td>0.0</td>\n",
       "      <td>...</td>\n",
       "      <td>20</td>\n",
       "      <td>0.0</td>\n",
       "      <td>0.0</td>\n",
       "      <td>0</td>\n",
       "      <td>0</td>\n",
       "      <td>0.0</td>\n",
       "      <td>0.0</td>\n",
       "      <td>0</td>\n",
       "      <td>0</td>\n",
       "      <td>BENIGN</td>\n",
       "    </tr>\n",
       "    <tr>\n",
       "      <th>1</th>\n",
       "      <td>55054</td>\n",
       "      <td>109</td>\n",
       "      <td>1</td>\n",
       "      <td>1</td>\n",
       "      <td>6</td>\n",
       "      <td>6</td>\n",
       "      <td>6</td>\n",
       "      <td>6</td>\n",
       "      <td>6.0</td>\n",
       "      <td>0.0</td>\n",
       "      <td>...</td>\n",
       "      <td>20</td>\n",
       "      <td>0.0</td>\n",
       "      <td>0.0</td>\n",
       "      <td>0</td>\n",
       "      <td>0</td>\n",
       "      <td>0.0</td>\n",
       "      <td>0.0</td>\n",
       "      <td>0</td>\n",
       "      <td>0</td>\n",
       "      <td>BENIGN</td>\n",
       "    </tr>\n",
       "    <tr>\n",
       "      <th>2</th>\n",
       "      <td>55055</td>\n",
       "      <td>52</td>\n",
       "      <td>1</td>\n",
       "      <td>1</td>\n",
       "      <td>6</td>\n",
       "      <td>6</td>\n",
       "      <td>6</td>\n",
       "      <td>6</td>\n",
       "      <td>6.0</td>\n",
       "      <td>0.0</td>\n",
       "      <td>...</td>\n",
       "      <td>20</td>\n",
       "      <td>0.0</td>\n",
       "      <td>0.0</td>\n",
       "      <td>0</td>\n",
       "      <td>0</td>\n",
       "      <td>0.0</td>\n",
       "      <td>0.0</td>\n",
       "      <td>0</td>\n",
       "      <td>0</td>\n",
       "      <td>BENIGN</td>\n",
       "    </tr>\n",
       "    <tr>\n",
       "      <th>3</th>\n",
       "      <td>46236</td>\n",
       "      <td>34</td>\n",
       "      <td>1</td>\n",
       "      <td>1</td>\n",
       "      <td>6</td>\n",
       "      <td>6</td>\n",
       "      <td>6</td>\n",
       "      <td>6</td>\n",
       "      <td>6.0</td>\n",
       "      <td>0.0</td>\n",
       "      <td>...</td>\n",
       "      <td>20</td>\n",
       "      <td>0.0</td>\n",
       "      <td>0.0</td>\n",
       "      <td>0</td>\n",
       "      <td>0</td>\n",
       "      <td>0.0</td>\n",
       "      <td>0.0</td>\n",
       "      <td>0</td>\n",
       "      <td>0</td>\n",
       "      <td>BENIGN</td>\n",
       "    </tr>\n",
       "    <tr>\n",
       "      <th>4</th>\n",
       "      <td>54863</td>\n",
       "      <td>3</td>\n",
       "      <td>2</td>\n",
       "      <td>0</td>\n",
       "      <td>12</td>\n",
       "      <td>0</td>\n",
       "      <td>6</td>\n",
       "      <td>6</td>\n",
       "      <td>6.0</td>\n",
       "      <td>0.0</td>\n",
       "      <td>...</td>\n",
       "      <td>20</td>\n",
       "      <td>0.0</td>\n",
       "      <td>0.0</td>\n",
       "      <td>0</td>\n",
       "      <td>0</td>\n",
       "      <td>0.0</td>\n",
       "      <td>0.0</td>\n",
       "      <td>0</td>\n",
       "      <td>0</td>\n",
       "      <td>BENIGN</td>\n",
       "    </tr>\n",
       "  </tbody>\n",
       "</table>\n",
       "<p>5 rows × 79 columns</p>\n",
       "</div>"
      ],
      "text/plain": [
       "    Destination Port   Flow Duration   Total Fwd Packets  \\\n",
       "0              54865               3                   2   \n",
       "1              55054             109                   1   \n",
       "2              55055              52                   1   \n",
       "3              46236              34                   1   \n",
       "4              54863               3                   2   \n",
       "\n",
       "    Total Backward Packets  Total Length of Fwd Packets  \\\n",
       "0                        0                           12   \n",
       "1                        1                            6   \n",
       "2                        1                            6   \n",
       "3                        1                            6   \n",
       "4                        0                           12   \n",
       "\n",
       "    Total Length of Bwd Packets   Fwd Packet Length Max  \\\n",
       "0                             0                       6   \n",
       "1                             6                       6   \n",
       "2                             6                       6   \n",
       "3                             6                       6   \n",
       "4                             0                       6   \n",
       "\n",
       "    Fwd Packet Length Min   Fwd Packet Length Mean   Fwd Packet Length Std  \\\n",
       "0                       6                      6.0                     0.0   \n",
       "1                       6                      6.0                     0.0   \n",
       "2                       6                      6.0                     0.0   \n",
       "3                       6                      6.0                     0.0   \n",
       "4                       6                      6.0                     0.0   \n",
       "\n",
       "   ...   min_seg_size_forward  Active Mean   Active Std   Active Max  \\\n",
       "0  ...                     20          0.0          0.0            0   \n",
       "1  ...                     20          0.0          0.0            0   \n",
       "2  ...                     20          0.0          0.0            0   \n",
       "3  ...                     20          0.0          0.0            0   \n",
       "4  ...                     20          0.0          0.0            0   \n",
       "\n",
       "    Active Min  Idle Mean   Idle Std   Idle Max   Idle Min   Label  \n",
       "0            0        0.0        0.0          0          0  BENIGN  \n",
       "1            0        0.0        0.0          0          0  BENIGN  \n",
       "2            0        0.0        0.0          0          0  BENIGN  \n",
       "3            0        0.0        0.0          0          0  BENIGN  \n",
       "4            0        0.0        0.0          0          0  BENIGN  \n",
       "\n",
       "[5 rows x 79 columns]"
      ]
     },
     "execution_count": 24,
     "metadata": {},
     "output_type": "execute_result"
    }
   ],
   "source": [
    "df.head()"
   ]
  },
  {
   "cell_type": "code",
   "execution_count": 25,
   "id": "884d5707",
   "metadata": {
    "execution": {
     "iopub.execute_input": "2025-02-22T18:52:48.786032Z",
     "iopub.status.busy": "2025-02-22T18:52:48.785339Z",
     "iopub.status.idle": "2025-02-22T18:52:58.405685Z",
     "shell.execute_reply": "2025-02-22T18:52:58.404784Z"
    },
    "papermill": {
     "duration": 9.634725,
     "end_time": "2025-02-22T18:52:58.407637",
     "exception": false,
     "start_time": "2025-02-22T18:52:48.772912",
     "status": "completed"
    },
    "tags": []
   },
   "outputs": [
    {
     "name": "stderr",
     "output_type": "stream",
     "text": [
      "/opt/conda/lib/python3.10/site-packages/seaborn/_oldcore.py:1119: FutureWarning: use_inf_as_na option is deprecated and will be removed in a future version. Convert inf values to NaN before operating instead.\n",
      "  with pd.option_context('mode.use_inf_as_na', True):\n"
     ]
    },
    {
     "data": {
      "text/plain": [
       "<Axes: xlabel=' Label', ylabel='Count'>"
      ]
     },
     "execution_count": 25,
     "metadata": {},
     "output_type": "execute_result"
    },
    {
     "data": {
      "image/png": "[encoded data removed]",
      "text/plain": [
       "<Figure size 1000x500 with 1 Axes>"
      ]
     },
     "metadata": {},
     "output_type": "display_data"
    }
   ],
   "source": [
    "plt.figure(figsize=(10, 5))\n",
    "sns.histplot(data=df,x=\" Label\",kde=True)"
   ]
  },
  {
   "cell_type": "code",
   "execution_count": 26,
   "id": "ad02950d",
   "metadata": {
    "execution": {
     "iopub.execute_input": "2025-02-22T18:52:58.433759Z",
     "iopub.status.busy": "2025-02-22T18:52:58.432966Z",
     "iopub.status.idle": "2025-02-22T18:53:08.559369Z",
     "shell.execute_reply": "2025-02-22T18:53:08.558413Z"
    },
    "papermill": {
     "duration": 10.141122,
     "end_time": "2025-02-22T18:53:08.561304",
     "exception": false,
     "start_time": "2025-02-22T18:52:58.420182",
     "status": "completed"
    },
    "tags": []
   },
   "outputs": [
    {
     "name": "stderr",
     "output_type": "stream",
     "text": [
      "/opt/conda/lib/python3.10/site-packages/seaborn/_oldcore.py:1119: FutureWarning: use_inf_as_na option is deprecated and will be removed in a future version. Convert inf values to NaN before operating instead.\n",
      "  with pd.option_context('mode.use_inf_as_na', True):\n"
     ]
    },
    {
     "data": {
      "text/plain": [
       "<Axes: xlabel=' Label', ylabel='Count'>"
      ]
     },
     "execution_count": 26,
     "metadata": {},
     "output_type": "execute_result"
    },
    {
     "data": {
      "image/png": "[encoded data removed]",
      "text/plain": [
       "<Figure size 1000x500 with 1 Axes>"
      ]
     },
     "metadata": {},
     "output_type": "display_data"
    }
   ],
   "source": [
    "plt.figure(figsize=(10, 5))\n",
    "sns.histplot(data=df_attack,x=\" Label\",kde=True)"
   ]
  },
  {
   "cell_type": "code",
   "execution_count": 27,
   "id": "0abcfb89",
   "metadata": {
    "execution": {
     "iopub.execute_input": "2025-02-22T18:53:08.588848Z",
     "iopub.status.busy": "2025-02-22T18:53:08.588136Z",
     "iopub.status.idle": "2025-02-22T18:53:08.679742Z",
     "shell.execute_reply": "2025-02-22T18:53:08.678754Z"
    },
    "papermill": {
     "duration": 0.107167,
     "end_time": "2025-02-22T18:53:08.681459",
     "exception": false,
     "start_time": "2025-02-22T18:53:08.574292",
     "status": "completed"
    },
    "tags": []
   },
   "outputs": [
    {
     "name": "stdout",
     "output_type": "stream",
     "text": [
      "0\n"
     ]
    }
   ],
   "source": [
    "print(df_attack[\" Label\"].isna().sum())"
   ]
  },
  {
   "cell_type": "code",
   "execution_count": 28,
   "id": "19ac6220",
   "metadata": {
    "execution": {
     "iopub.execute_input": "2025-02-22T18:53:08.709156Z",
     "iopub.status.busy": "2025-02-22T18:53:08.708744Z",
     "iopub.status.idle": "2025-02-22T18:53:09.124813Z",
     "shell.execute_reply": "2025-02-22T18:53:09.123767Z"
    },
    "papermill": {
     "duration": 0.432646,
     "end_time": "2025-02-22T18:53:09.126990",
     "exception": false,
     "start_time": "2025-02-22T18:53:08.694344",
     "status": "completed"
    },
    "tags": []
   },
   "outputs": [],
   "source": [
    "df_attack.replace([np.inf, -np.inf], np.nan, inplace=True)"
   ]
  },
  {
   "cell_type": "code",
   "execution_count": 29,
   "id": "24871c6a",
   "metadata": {
    "execution": {
     "iopub.execute_input": "2025-02-22T18:53:09.154403Z",
     "iopub.status.busy": "2025-02-22T18:53:09.153549Z",
     "iopub.status.idle": "2025-02-22T18:53:09.708820Z",
     "shell.execute_reply": "2025-02-22T18:53:09.707877Z"
    },
    "papermill": {
     "duration": 0.570748,
     "end_time": "2025-02-22T18:53:09.710899",
     "exception": false,
     "start_time": "2025-02-22T18:53:09.140151",
     "status": "completed"
    },
    "tags": []
   },
   "outputs": [
    {
     "data": {
      "text/html": [
       "<div>\n",
       "<style scoped>\n",
       "    .dataframe tbody tr th:only-of-type {\n",
       "        vertical-align: middle;\n",
       "    }\n",
       "\n",
       "    .dataframe tbody tr th {\n",
       "        vertical-align: top;\n",
       "    }\n",
       "\n",
       "    .dataframe thead th {\n",
       "        text-align: right;\n",
       "    }\n",
       "</style>\n",
       "<table border=\"1\" class=\"dataframe\">\n",
       "  <thead>\n",
       "    <tr style=\"text-align: right;\">\n",
       "      <th></th>\n",
       "      <th>Destination Port</th>\n",
       "      <th>Flow Duration</th>\n",
       "      <th>Total Fwd Packets</th>\n",
       "      <th>Total Backward Packets</th>\n",
       "      <th>Total Length of Fwd Packets</th>\n",
       "      <th>Total Length of Bwd Packets</th>\n",
       "      <th>Fwd Packet Length Max</th>\n",
       "      <th>Fwd Packet Length Min</th>\n",
       "      <th>Fwd Packet Length Mean</th>\n",
       "      <th>Fwd Packet Length Std</th>\n",
       "      <th>...</th>\n",
       "      <th>min_seg_size_forward</th>\n",
       "      <th>Active Mean</th>\n",
       "      <th>Active Std</th>\n",
       "      <th>Active Max</th>\n",
       "      <th>Active Min</th>\n",
       "      <th>Idle Mean</th>\n",
       "      <th>Idle Std</th>\n",
       "      <th>Idle Max</th>\n",
       "      <th>Idle Min</th>\n",
       "      <th>Label</th>\n",
       "    </tr>\n",
       "  </thead>\n",
       "  <tbody>\n",
       "    <tr>\n",
       "      <th>0</th>\n",
       "      <td>54865</td>\n",
       "      <td>3</td>\n",
       "      <td>2</td>\n",
       "      <td>0</td>\n",
       "      <td>12</td>\n",
       "      <td>0</td>\n",
       "      <td>6</td>\n",
       "      <td>6</td>\n",
       "      <td>6.0</td>\n",
       "      <td>0.00000</td>\n",
       "      <td>...</td>\n",
       "      <td>20</td>\n",
       "      <td>0.0</td>\n",
       "      <td>0.0</td>\n",
       "      <td>0</td>\n",
       "      <td>0</td>\n",
       "      <td>0.0</td>\n",
       "      <td>0.0</td>\n",
       "      <td>0</td>\n",
       "      <td>0</td>\n",
       "      <td>BENIGN</td>\n",
       "    </tr>\n",
       "    <tr>\n",
       "      <th>1</th>\n",
       "      <td>55054</td>\n",
       "      <td>109</td>\n",
       "      <td>1</td>\n",
       "      <td>1</td>\n",
       "      <td>6</td>\n",
       "      <td>6</td>\n",
       "      <td>6</td>\n",
       "      <td>6</td>\n",
       "      <td>6.0</td>\n",
       "      <td>0.00000</td>\n",
       "      <td>...</td>\n",
       "      <td>20</td>\n",
       "      <td>0.0</td>\n",
       "      <td>0.0</td>\n",
       "      <td>0</td>\n",
       "      <td>0</td>\n",
       "      <td>0.0</td>\n",
       "      <td>0.0</td>\n",
       "      <td>0</td>\n",
       "      <td>0</td>\n",
       "      <td>BENIGN</td>\n",
       "    </tr>\n",
       "    <tr>\n",
       "      <th>2</th>\n",
       "      <td>55055</td>\n",
       "      <td>52</td>\n",
       "      <td>1</td>\n",
       "      <td>1</td>\n",
       "      <td>6</td>\n",
       "      <td>6</td>\n",
       "      <td>6</td>\n",
       "      <td>6</td>\n",
       "      <td>6.0</td>\n",
       "      <td>0.00000</td>\n",
       "      <td>...</td>\n",
       "      <td>20</td>\n",
       "      <td>0.0</td>\n",
       "      <td>0.0</td>\n",
       "      <td>0</td>\n",
       "      <td>0</td>\n",
       "      <td>0.0</td>\n",
       "      <td>0.0</td>\n",
       "      <td>0</td>\n",
       "      <td>0</td>\n",
       "      <td>BENIGN</td>\n",
       "    </tr>\n",
       "    <tr>\n",
       "      <th>3</th>\n",
       "      <td>46236</td>\n",
       "      <td>34</td>\n",
       "      <td>1</td>\n",
       "      <td>1</td>\n",
       "      <td>6</td>\n",
       "      <td>6</td>\n",
       "      <td>6</td>\n",
       "      <td>6</td>\n",
       "      <td>6.0</td>\n",
       "      <td>0.00000</td>\n",
       "      <td>...</td>\n",
       "      <td>20</td>\n",
       "      <td>0.0</td>\n",
       "      <td>0.0</td>\n",
       "      <td>0</td>\n",
       "      <td>0</td>\n",
       "      <td>0.0</td>\n",
       "      <td>0.0</td>\n",
       "      <td>0</td>\n",
       "      <td>0</td>\n",
       "      <td>BENIGN</td>\n",
       "    </tr>\n",
       "    <tr>\n",
       "      <th>4</th>\n",
       "      <td>54863</td>\n",
       "      <td>3</td>\n",
       "      <td>2</td>\n",
       "      <td>0</td>\n",
       "      <td>12</td>\n",
       "      <td>0</td>\n",
       "      <td>6</td>\n",
       "      <td>6</td>\n",
       "      <td>6.0</td>\n",
       "      <td>0.00000</td>\n",
       "      <td>...</td>\n",
       "      <td>20</td>\n",
       "      <td>0.0</td>\n",
       "      <td>0.0</td>\n",
       "      <td>0</td>\n",
       "      <td>0</td>\n",
       "      <td>0.0</td>\n",
       "      <td>0.0</td>\n",
       "      <td>0</td>\n",
       "      <td>0</td>\n",
       "      <td>BENIGN</td>\n",
       "    </tr>\n",
       "    <tr>\n",
       "      <th>...</th>\n",
       "      <td>...</td>\n",
       "      <td>...</td>\n",
       "      <td>...</td>\n",
       "      <td>...</td>\n",
       "      <td>...</td>\n",
       "      <td>...</td>\n",
       "      <td>...</td>\n",
       "      <td>...</td>\n",
       "      <td>...</td>\n",
       "      <td>...</td>\n",
       "      <td>...</td>\n",
       "      <td>...</td>\n",
       "      <td>...</td>\n",
       "      <td>...</td>\n",
       "      <td>...</td>\n",
       "      <td>...</td>\n",
       "      <td>...</td>\n",
       "      <td>...</td>\n",
       "      <td>...</td>\n",
       "      <td>...</td>\n",
       "      <td>...</td>\n",
       "    </tr>\n",
       "    <tr>\n",
       "      <th>692698</th>\n",
       "      <td>53</td>\n",
       "      <td>32215</td>\n",
       "      <td>4</td>\n",
       "      <td>2</td>\n",
       "      <td>112</td>\n",
       "      <td>152</td>\n",
       "      <td>28</td>\n",
       "      <td>28</td>\n",
       "      <td>28.0</td>\n",
       "      <td>0.00000</td>\n",
       "      <td>...</td>\n",
       "      <td>20</td>\n",
       "      <td>0.0</td>\n",
       "      <td>0.0</td>\n",
       "      <td>0</td>\n",
       "      <td>0</td>\n",
       "      <td>0.0</td>\n",
       "      <td>0.0</td>\n",
       "      <td>0</td>\n",
       "      <td>0</td>\n",
       "      <td>BENIGN</td>\n",
       "    </tr>\n",
       "    <tr>\n",
       "      <th>692699</th>\n",
       "      <td>53</td>\n",
       "      <td>324</td>\n",
       "      <td>2</td>\n",
       "      <td>2</td>\n",
       "      <td>84</td>\n",
       "      <td>362</td>\n",
       "      <td>42</td>\n",
       "      <td>42</td>\n",
       "      <td>42.0</td>\n",
       "      <td>0.00000</td>\n",
       "      <td>...</td>\n",
       "      <td>20</td>\n",
       "      <td>0.0</td>\n",
       "      <td>0.0</td>\n",
       "      <td>0</td>\n",
       "      <td>0</td>\n",
       "      <td>0.0</td>\n",
       "      <td>0.0</td>\n",
       "      <td>0</td>\n",
       "      <td>0</td>\n",
       "      <td>BENIGN</td>\n",
       "    </tr>\n",
       "    <tr>\n",
       "      <th>692700</th>\n",
       "      <td>58030</td>\n",
       "      <td>82</td>\n",
       "      <td>2</td>\n",
       "      <td>1</td>\n",
       "      <td>31</td>\n",
       "      <td>6</td>\n",
       "      <td>31</td>\n",
       "      <td>0</td>\n",
       "      <td>15.5</td>\n",
       "      <td>21.92031</td>\n",
       "      <td>...</td>\n",
       "      <td>32</td>\n",
       "      <td>0.0</td>\n",
       "      <td>0.0</td>\n",
       "      <td>0</td>\n",
       "      <td>0</td>\n",
       "      <td>0.0</td>\n",
       "      <td>0.0</td>\n",
       "      <td>0</td>\n",
       "      <td>0</td>\n",
       "      <td>BENIGN</td>\n",
       "    </tr>\n",
       "    <tr>\n",
       "      <th>692701</th>\n",
       "      <td>53</td>\n",
       "      <td>1048635</td>\n",
       "      <td>6</td>\n",
       "      <td>2</td>\n",
       "      <td>192</td>\n",
       "      <td>256</td>\n",
       "      <td>32</td>\n",
       "      <td>32</td>\n",
       "      <td>32.0</td>\n",
       "      <td>0.00000</td>\n",
       "      <td>...</td>\n",
       "      <td>20</td>\n",
       "      <td>0.0</td>\n",
       "      <td>0.0</td>\n",
       "      <td>0</td>\n",
       "      <td>0</td>\n",
       "      <td>0.0</td>\n",
       "      <td>0.0</td>\n",
       "      <td>0</td>\n",
       "      <td>0</td>\n",
       "      <td>BENIGN</td>\n",
       "    </tr>\n",
       "    <tr>\n",
       "      <th>692702</th>\n",
       "      <td>53</td>\n",
       "      <td>94939</td>\n",
       "      <td>4</td>\n",
       "      <td>2</td>\n",
       "      <td>188</td>\n",
       "      <td>226</td>\n",
       "      <td>47</td>\n",
       "      <td>47</td>\n",
       "      <td>47.0</td>\n",
       "      <td>0.00000</td>\n",
       "      <td>...</td>\n",
       "      <td>20</td>\n",
       "      <td>0.0</td>\n",
       "      <td>0.0</td>\n",
       "      <td>0</td>\n",
       "      <td>0</td>\n",
       "      <td>0.0</td>\n",
       "      <td>0.0</td>\n",
       "      <td>0</td>\n",
       "      <td>0</td>\n",
       "      <td>BENIGN</td>\n",
       "    </tr>\n",
       "  </tbody>\n",
       "</table>\n",
       "<p>2299531 rows × 79 columns</p>\n",
       "</div>"
      ],
      "text/plain": [
       "         Destination Port   Flow Duration   Total Fwd Packets  \\\n",
       "0                   54865               3                   2   \n",
       "1                   55054             109                   1   \n",
       "2                   55055              52                   1   \n",
       "3                   46236              34                   1   \n",
       "4                   54863               3                   2   \n",
       "...                   ...             ...                 ...   \n",
       "692698                 53           32215                   4   \n",
       "692699                 53             324                   2   \n",
       "692700              58030              82                   2   \n",
       "692701                 53         1048635                   6   \n",
       "692702                 53           94939                   4   \n",
       "\n",
       "         Total Backward Packets  Total Length of Fwd Packets  \\\n",
       "0                             0                           12   \n",
       "1                             1                            6   \n",
       "2                             1                            6   \n",
       "3                             1                            6   \n",
       "4                             0                           12   \n",
       "...                         ...                          ...   \n",
       "692698                        2                          112   \n",
       "692699                        2                           84   \n",
       "692700                        1                           31   \n",
       "692701                        2                          192   \n",
       "692702                        2                          188   \n",
       "\n",
       "         Total Length of Bwd Packets   Fwd Packet Length Max  \\\n",
       "0                                  0                       6   \n",
       "1                                  6                       6   \n",
       "2                                  6                       6   \n",
       "3                                  6                       6   \n",
       "4                                  0                       6   \n",
       "...                              ...                     ...   \n",
       "692698                           152                      28   \n",
       "692699                           362                      42   \n",
       "692700                             6                      31   \n",
       "692701                           256                      32   \n",
       "692702                           226                      47   \n",
       "\n",
       "         Fwd Packet Length Min   Fwd Packet Length Mean  \\\n",
       "0                            6                      6.0   \n",
       "1                            6                      6.0   \n",
       "2                            6                      6.0   \n",
       "3                            6                      6.0   \n",
       "4                            6                      6.0   \n",
       "...                        ...                      ...   \n",
       "692698                      28                     28.0   \n",
       "692699                      42                     42.0   \n",
       "692700                       0                     15.5   \n",
       "692701                      32                     32.0   \n",
       "692702                      47                     47.0   \n",
       "\n",
       "         Fwd Packet Length Std  ...   min_seg_size_forward  Active Mean  \\\n",
       "0                      0.00000  ...                     20          0.0   \n",
       "1                      0.00000  ...                     20          0.0   \n",
       "2                      0.00000  ...                     20          0.0   \n",
       "3                      0.00000  ...                     20          0.0   \n",
       "4                      0.00000  ...                     20          0.0   \n",
       "...                        ...  ...                    ...          ...   \n",
       "692698                 0.00000  ...                     20          0.0   \n",
       "692699                 0.00000  ...                     20          0.0   \n",
       "692700                21.92031  ...                     32          0.0   \n",
       "692701                 0.00000  ...                     20          0.0   \n",
       "692702                 0.00000  ...                     20          0.0   \n",
       "\n",
       "         Active Std   Active Max   Active Min  Idle Mean   Idle Std  \\\n",
       "0               0.0            0            0        0.0        0.0   \n",
       "1               0.0            0            0        0.0        0.0   \n",
       "2               0.0            0            0        0.0        0.0   \n",
       "3               0.0            0            0        0.0        0.0   \n",
       "4               0.0            0            0        0.0        0.0   \n",
       "...             ...          ...          ...        ...        ...   \n",
       "692698          0.0            0            0        0.0        0.0   \n",
       "692699          0.0            0            0        0.0        0.0   \n",
       "692700          0.0            0            0        0.0        0.0   \n",
       "692701          0.0            0            0        0.0        0.0   \n",
       "692702          0.0            0            0        0.0        0.0   \n",
       "\n",
       "         Idle Max   Idle Min   Label  \n",
       "0               0          0  BENIGN  \n",
       "1               0          0  BENIGN  \n",
       "2               0          0  BENIGN  \n",
       "3               0          0  BENIGN  \n",
       "4               0          0  BENIGN  \n",
       "...           ...        ...     ...  \n",
       "692698          0          0  BENIGN  \n",
       "692699          0          0  BENIGN  \n",
       "692700          0          0  BENIGN  \n",
       "692701          0          0  BENIGN  \n",
       "692702          0          0  BENIGN  \n",
       "\n",
       "[2299531 rows x 79 columns]"
      ]
     },
     "execution_count": 29,
     "metadata": {},
     "output_type": "execute_result"
    }
   ],
   "source": [
    "df_attack"
   ]
  },
  {
   "cell_type": "code",
   "execution_count": null,
   "id": "92dade7d",
   "metadata": {
    "execution": {
     "iopub.execute_input": "2025-02-22T18:53:09.740545Z",
     "iopub.status.busy": "2025-02-22T18:53:09.740225Z",
     "iopub.status.idle": "2025-02-22T18:53:10.239475Z",
     "shell.execute_reply": "2025-02-22T18:53:10.238418Z"
    },
    "papermill": {
     "duration": 0.515773,
     "end_time": "2025-02-22T18:53:10.241376",
     "exception": false,
     "start_time": "2025-02-22T18:53:09.725603",
     "status": "completed"
    },
    "tags": []
   },
   "outputs": [
    {
     "name": "stdout",
     "output_type": "stream",
     "text": [
      "Encoded Labels: [1 1 1 ... 1 1 1]\n",
      "Original Labels: ['BENIGN' 'BENIGN' 'BENIGN' ... 'BENIGN' 'BENIGN' 'BENIGN']\n"
     ]
    }
   ],
   "source": [
    "from sklearn.preprocessing import LabelEncoder\n",
    "\n",
    "label_encoder = LabelEncoder()\n",
    "\n",
    "encoded_labels = label_encoder.fit_transform(df_attack[' Label'])\n",
    "\n",
    "print(\"Encoded Labels:\", encoded_labels)\n",
    "\n",
    "original_labels = label_encoder.inverse_transform(encoded_labels)\n",
    "\n",
    "print(\"Original Labels:\", original_labels)\n",
    "df_attack[' Label'] =encoded_labels"
   ]
  },
  {
   "cell_type": "code",
   "execution_count": 31,
   "id": "063271dd",
   "metadata": {
    "execution": {
     "iopub.execute_input": "2025-02-22T18:53:10.270801Z",
     "iopub.status.busy": "2025-02-22T18:53:10.269984Z",
     "iopub.status.idle": "2025-02-22T18:53:10.288127Z",
     "shell.execute_reply": "2025-02-22T18:53:10.287212Z"
    },
    "papermill": {
     "duration": 0.034877,
     "end_time": "2025-02-22T18:53:10.290015",
     "exception": false,
     "start_time": "2025-02-22T18:53:10.255138",
     "status": "completed"
    },
    "tags": []
   },
   "outputs": [
    {
     "data": {
      "text/plain": [
       "array([1, 0])"
      ]
     },
     "execution_count": 31,
     "metadata": {},
     "output_type": "execute_result"
    }
   ],
   "source": [
    "df_attack[' Label'].unique()"
   ]
  },
  {
   "cell_type": "code",
   "execution_count": null,
   "id": "93d5c66e",
   "metadata": {
    "execution": {
     "iopub.execute_input": "2025-02-22T18:53:10.318469Z",
     "iopub.status.busy": "2025-02-22T18:53:10.318109Z",
     "iopub.status.idle": "2025-02-22T18:53:17.452353Z",
     "shell.execute_reply": "2025-02-22T18:53:17.451469Z"
    },
    "papermill": {
     "duration": 7.150579,
     "end_time": "2025-02-22T18:53:17.454029",
     "exception": false,
     "start_time": "2025-02-22T18:53:10.303450",
     "status": "completed"
    },
    "tags": []
   },
   "outputs": [
    {
     "name": "stdout",
     "output_type": "stream",
     "text": [
      "Dataset after Standardization:\n"
     ]
    },
    {
     "data": {
      "text/html": [
       "<div>\n",
       "<style scoped>\n",
       "    .dataframe tbody tr th:only-of-type {\n",
       "        vertical-align: middle;\n",
       "    }\n",
       "\n",
       "    .dataframe tbody tr th {\n",
       "        vertical-align: top;\n",
       "    }\n",
       "\n",
       "    .dataframe thead th {\n",
       "        text-align: right;\n",
       "    }\n",
       "</style>\n",
       "<table border=\"1\" class=\"dataframe\">\n",
       "  <thead>\n",
       "    <tr style=\"text-align: right;\">\n",
       "      <th></th>\n",
       "      <th>Destination Port</th>\n",
       "      <th>Flow Duration</th>\n",
       "      <th>Total Fwd Packets</th>\n",
       "      <th>Total Backward Packets</th>\n",
       "      <th>Total Length of Fwd Packets</th>\n",
       "      <th>Total Length of Bwd Packets</th>\n",
       "      <th>Fwd Packet Length Max</th>\n",
       "      <th>Fwd Packet Length Min</th>\n",
       "      <th>Fwd Packet Length Mean</th>\n",
       "      <th>Fwd Packet Length Std</th>\n",
       "      <th>...</th>\n",
       "      <th>min_seg_size_forward</th>\n",
       "      <th>Active Mean</th>\n",
       "      <th>Active Std</th>\n",
       "      <th>Active Max</th>\n",
       "      <th>Active Min</th>\n",
       "      <th>Idle Mean</th>\n",
       "      <th>Idle Std</th>\n",
       "      <th>Idle Max</th>\n",
       "      <th>Idle Min</th>\n",
       "      <th>Label</th>\n",
       "    </tr>\n",
       "  </thead>\n",
       "  <tbody>\n",
       "    <tr>\n",
       "      <th>0</th>\n",
       "      <td>2.717684</td>\n",
       "      <td>-0.456677</td>\n",
       "      <td>-0.009998</td>\n",
       "      <td>-0.010646</td>\n",
       "      <td>-0.050716</td>\n",
       "      <td>-0.007310</td>\n",
       "      <td>-0.268388</td>\n",
       "      <td>-0.191285</td>\n",
       "      <td>-0.267559</td>\n",
       "      <td>-0.235583</td>\n",
       "      <td>...</td>\n",
       "      <td>0.002182</td>\n",
       "      <td>-0.12781</td>\n",
       "      <td>-0.103604</td>\n",
       "      <td>-0.151215</td>\n",
       "      <td>-0.103877</td>\n",
       "      <td>-0.372558</td>\n",
       "      <td>-0.114784</td>\n",
       "      <td>-0.377913</td>\n",
       "      <td>-0.358824</td>\n",
       "      <td>1</td>\n",
       "    </tr>\n",
       "    <tr>\n",
       "      <th>1</th>\n",
       "      <td>2.728523</td>\n",
       "      <td>-0.456674</td>\n",
       "      <td>-0.011401</td>\n",
       "      <td>-0.009596</td>\n",
       "      <td>-0.051278</td>\n",
       "      <td>-0.007307</td>\n",
       "      <td>-0.268388</td>\n",
       "      <td>-0.191285</td>\n",
       "      <td>-0.267559</td>\n",
       "      <td>-0.235583</td>\n",
       "      <td>...</td>\n",
       "      <td>0.002182</td>\n",
       "      <td>-0.12781</td>\n",
       "      <td>-0.103604</td>\n",
       "      <td>-0.151215</td>\n",
       "      <td>-0.103877</td>\n",
       "      <td>-0.372558</td>\n",
       "      <td>-0.114784</td>\n",
       "      <td>-0.377913</td>\n",
       "      <td>-0.358824</td>\n",
       "      <td>1</td>\n",
       "    </tr>\n",
       "    <tr>\n",
       "      <th>2</th>\n",
       "      <td>2.728580</td>\n",
       "      <td>-0.456675</td>\n",
       "      <td>-0.011401</td>\n",
       "      <td>-0.009596</td>\n",
       "      <td>-0.051278</td>\n",
       "      <td>-0.007307</td>\n",
       "      <td>-0.268388</td>\n",
       "      <td>-0.191285</td>\n",
       "      <td>-0.267559</td>\n",
       "      <td>-0.235583</td>\n",
       "      <td>...</td>\n",
       "      <td>0.002182</td>\n",
       "      <td>-0.12781</td>\n",
       "      <td>-0.103604</td>\n",
       "      <td>-0.151215</td>\n",
       "      <td>-0.103877</td>\n",
       "      <td>-0.372558</td>\n",
       "      <td>-0.114784</td>\n",
       "      <td>-0.377913</td>\n",
       "      <td>-0.358824</td>\n",
       "      <td>1</td>\n",
       "    </tr>\n",
       "    <tr>\n",
       "      <th>3</th>\n",
       "      <td>2.222795</td>\n",
       "      <td>-0.456676</td>\n",
       "      <td>-0.011401</td>\n",
       "      <td>-0.009596</td>\n",
       "      <td>-0.051278</td>\n",
       "      <td>-0.007307</td>\n",
       "      <td>-0.268388</td>\n",
       "      <td>-0.191285</td>\n",
       "      <td>-0.267559</td>\n",
       "      <td>-0.235583</td>\n",
       "      <td>...</td>\n",
       "      <td>0.002182</td>\n",
       "      <td>-0.12781</td>\n",
       "      <td>-0.103604</td>\n",
       "      <td>-0.151215</td>\n",
       "      <td>-0.103877</td>\n",
       "      <td>-0.372558</td>\n",
       "      <td>-0.114784</td>\n",
       "      <td>-0.377913</td>\n",
       "      <td>-0.358824</td>\n",
       "      <td>1</td>\n",
       "    </tr>\n",
       "    <tr>\n",
       "      <th>4</th>\n",
       "      <td>2.717569</td>\n",
       "      <td>-0.456677</td>\n",
       "      <td>-0.009998</td>\n",
       "      <td>-0.010646</td>\n",
       "      <td>-0.050716</td>\n",
       "      <td>-0.007310</td>\n",
       "      <td>-0.268388</td>\n",
       "      <td>-0.191285</td>\n",
       "      <td>-0.267559</td>\n",
       "      <td>-0.235583</td>\n",
       "      <td>...</td>\n",
       "      <td>0.002182</td>\n",
       "      <td>-0.12781</td>\n",
       "      <td>-0.103604</td>\n",
       "      <td>-0.151215</td>\n",
       "      <td>-0.103877</td>\n",
       "      <td>-0.372558</td>\n",
       "      <td>-0.114784</td>\n",
       "      <td>-0.377913</td>\n",
       "      <td>-0.358824</td>\n",
       "      <td>1</td>\n",
       "    </tr>\n",
       "  </tbody>\n",
       "</table>\n",
       "<p>5 rows × 79 columns</p>\n",
       "</div>"
      ],
      "text/plain": [
       "    Destination Port   Flow Duration   Total Fwd Packets  \\\n",
       "0           2.717684       -0.456677           -0.009998   \n",
       "1           2.728523       -0.456674           -0.011401   \n",
       "2           2.728580       -0.456675           -0.011401   \n",
       "3           2.222795       -0.456676           -0.011401   \n",
       "4           2.717569       -0.456677           -0.009998   \n",
       "\n",
       "    Total Backward Packets  Total Length of Fwd Packets  \\\n",
       "0                -0.010646                    -0.050716   \n",
       "1                -0.009596                    -0.051278   \n",
       "2                -0.009596                    -0.051278   \n",
       "3                -0.009596                    -0.051278   \n",
       "4                -0.010646                    -0.050716   \n",
       "\n",
       "    Total Length of Bwd Packets   Fwd Packet Length Max  \\\n",
       "0                     -0.007310               -0.268388   \n",
       "1                     -0.007307               -0.268388   \n",
       "2                     -0.007307               -0.268388   \n",
       "3                     -0.007307               -0.268388   \n",
       "4                     -0.007310               -0.268388   \n",
       "\n",
       "    Fwd Packet Length Min   Fwd Packet Length Mean   Fwd Packet Length Std  \\\n",
       "0               -0.191285                -0.267559               -0.235583   \n",
       "1               -0.191285                -0.267559               -0.235583   \n",
       "2               -0.191285                -0.267559               -0.235583   \n",
       "3               -0.191285                -0.267559               -0.235583   \n",
       "4               -0.191285                -0.267559               -0.235583   \n",
       "\n",
       "   ...   min_seg_size_forward  Active Mean   Active Std   Active Max  \\\n",
       "0  ...               0.002182     -0.12781    -0.103604    -0.151215   \n",
       "1  ...               0.002182     -0.12781    -0.103604    -0.151215   \n",
       "2  ...               0.002182     -0.12781    -0.103604    -0.151215   \n",
       "3  ...               0.002182     -0.12781    -0.103604    -0.151215   \n",
       "4  ...               0.002182     -0.12781    -0.103604    -0.151215   \n",
       "\n",
       "    Active Min  Idle Mean   Idle Std   Idle Max   Idle Min   Label  \n",
       "0    -0.103877  -0.372558  -0.114784  -0.377913  -0.358824       1  \n",
       "1    -0.103877  -0.372558  -0.114784  -0.377913  -0.358824       1  \n",
       "2    -0.103877  -0.372558  -0.114784  -0.377913  -0.358824       1  \n",
       "3    -0.103877  -0.372558  -0.114784  -0.377913  -0.358824       1  \n",
       "4    -0.103877  -0.372558  -0.114784  -0.377913  -0.358824       1  \n",
       "\n",
       "[5 rows x 79 columns]"
      ]
     },
     "execution_count": 32,
     "metadata": {},
     "output_type": "execute_result"
    }
   ],
   "source": [
    "from sklearn.preprocessing import StandardScaler\n",
    "\n",
    "\n",
    "scaler = StandardScaler()\n",
    "\n",
    "\n",
    "numeric_columns = df_attack.drop([' Label'],axis=1).columns\n",
    "df_attack[numeric_columns] = scaler.fit_transform(df_attack[numeric_columns])\n",
    "\n",
    "print(\"Dataset after Standardization:\")\n",
    "df_attack.head()"
   ]
  },
  {
   "cell_type": "code",
   "execution_count": 33,
   "id": "a8e6b911",
   "metadata": {
    "execution": {
     "iopub.execute_input": "2025-02-22T18:53:17.482670Z",
     "iopub.status.busy": "2025-02-22T18:53:17.482099Z",
     "iopub.status.idle": "2025-02-22T18:53:18.903106Z",
     "shell.execute_reply": "2025-02-22T18:53:18.902368Z"
    },
    "papermill": {
     "duration": 1.437269,
     "end_time": "2025-02-22T18:53:18.905078",
     "exception": false,
     "start_time": "2025-02-22T18:53:17.467809",
     "status": "completed"
    },
    "tags": []
   },
   "outputs": [],
   "source": [
    "df_attack = df_attack.dropna()"
   ]
  },
  {
   "cell_type": "code",
   "execution_count": 34,
   "id": "372cd38d",
   "metadata": {
    "execution": {
     "iopub.execute_input": "2025-02-22T18:53:18.934279Z",
     "iopub.status.busy": "2025-02-22T18:53:18.933616Z",
     "iopub.status.idle": "2025-02-22T18:53:36.979272Z",
     "shell.execute_reply": "2025-02-22T18:53:36.978524Z"
    },
    "papermill": {
     "duration": 18.06235,
     "end_time": "2025-02-22T18:53:36.981430",
     "exception": false,
     "start_time": "2025-02-22T18:53:18.919080",
     "status": "completed"
    },
    "tags": []
   },
   "outputs": [
    {
     "name": "stdout",
     "output_type": "stream",
     "text": [
      "Number of components chosen: 25\n"
     ]
    }
   ],
   "source": [
    "from sklearn.model_selection import train_test_split\n",
    "from sklearn.decomposition import PCA\n",
    "X = df_attack.drop([\" Label\"],axis=1)\n",
    "y = df_attack[\" Label\"]\n",
    "pca = PCA(n_components = 0.95)\n",
    "X_reduced = pca.fit_transform(df_attack.drop([\" Label\"],axis=1))\n",
    "print(\"Number of components chosen:\", pca.n_components_)\n",
    "X_train, X_test, y_train, y_test = train_test_split(\n",
    "    X_reduced, y, test_size=0.3, random_state=42, stratify=y\n",
    ")\n"
   ]
  },
  {
   "cell_type": "code",
   "execution_count": 35,
   "id": "3965ecbd",
   "metadata": {
    "execution": {
     "iopub.execute_input": "2025-02-22T18:53:37.010719Z",
     "iopub.status.busy": "2025-02-22T18:53:37.010354Z",
     "iopub.status.idle": "2025-02-22T18:53:49.991672Z",
     "shell.execute_reply": "2025-02-22T18:53:49.990991Z"
    },
    "papermill": {
     "duration": 12.997822,
     "end_time": "2025-02-22T18:53:49.993580",
     "exception": false,
     "start_time": "2025-02-22T18:53:36.995758",
     "status": "completed"
    },
    "tags": []
   },
   "outputs": [
    {
     "name": "stderr",
     "output_type": "stream",
     "text": [
      "/opt/conda/lib/python3.10/site-packages/keras/src/layers/core/dense.py:87: UserWarning: Do not pass an `input_shape`/`input_dim` argument to a layer. When using Sequential models, prefer using an `Input(shape)` object as the first layer in the model instead.\n",
      "  super().__init__(activity_regularizer=activity_regularizer, **kwargs)\n"
     ]
    }
   ],
   "source": [
    "import tensorflow \n",
    "from tensorflow import keras\n",
    "from tensorflow.keras.models import Sequential \n",
    "from tensorflow.keras.layers import Dense,Dropout,BatchNormalization,Activation\n",
    "model = Sequential(\n",
    "    [\n",
    "        Dense(64,input_shape=(X_train.shape[1],)),\n",
    "        BatchNormalization(),\n",
    "        Activation('relu'),\n",
    "        Dropout(0.5),\n",
    "        Dense(16),\n",
    "        BatchNormalization(),\n",
    "        Activation('tanh'),\n",
    "        Dropout(0.5),\n",
    "        Dense(1,activation='sigmoid')\n",
    "    ]\n",
    ")"
   ]
  },
  {
   "cell_type": "code",
   "execution_count": 36,
   "id": "449f694b",
   "metadata": {
    "execution": {
     "iopub.execute_input": "2025-02-22T18:53:50.022739Z",
     "iopub.status.busy": "2025-02-22T18:53:50.021889Z",
     "iopub.status.idle": "2025-02-22T18:53:50.039771Z",
     "shell.execute_reply": "2025-02-22T18:53:50.038919Z"
    },
    "papermill": {
     "duration": 0.03414,
     "end_time": "2025-02-22T18:53:50.041513",
     "exception": false,
     "start_time": "2025-02-22T18:53:50.007373",
     "status": "completed"
    },
    "tags": []
   },
   "outputs": [
    {
     "data": {
      "text/html": [
       "<pre style=\"white-space:pre;overflow-x:auto;line-height:normal;font-family:Menlo,'DejaVu Sans Mono',consolas,'Courier New',monospace\"><span style=\"font-weight: bold\">Model: \"sequential\"</span>\n",
       "</pre>\n"
      ],
      "text/plain": [
       "\u001b[1mModel: \"sequential\"\u001b[0m\n"
      ]
     },
     "metadata": {},
     "output_type": "display_data"
    },
    {
     "data": {
      "text/html": [
       "<pre style=\"white-space:pre;overflow-x:auto;line-height:normal;font-family:Menlo,'DejaVu Sans Mono',consolas,'Courier New',monospace\">┏━━━━━━━━━━━━━━━━━━━━━━━━━━━━━━━━━┳━━━━━━━━━━━━━━━━━━━━━━━━┳━━━━━━━━━━━━━━━┓\n",
       "┃<span style=\"font-weight: bold\"> Layer (type)                    </span>┃<span style=\"font-weight: bold\"> Output Shape           </span>┃<span style=\"font-weight: bold\">       Param # </span>┃\n",
       "┡━━━━━━━━━━━━━━━━━━━━━━━━━━━━━━━━━╇━━━━━━━━━━━━━━━━━━━━━━━━╇━━━━━━━━━━━━━━━┩\n",
       "│ dense (<span style=\"color: #0087ff; text-decoration-color: #0087ff\">Dense</span>)                   │ (<span style=\"color: #00d7ff; text-decoration-color: #00d7ff\">None</span>, <span style=\"color: #00af00; text-decoration-color: #00af00\">64</span>)             │         <span style=\"color: #00af00; text-decoration-color: #00af00\">1,664</span> │\n",
       "├─────────────────────────────────┼────────────────────────┼───────────────┤\n",
       "│ batch_normalization             │ (<span style=\"color: #00d7ff; text-decoration-color: #00d7ff\">None</span>, <span style=\"color: #00af00; text-decoration-color: #00af00\">64</span>)             │           <span style=\"color: #00af00; text-decoration-color: #00af00\">256</span> │\n",
       "│ (<span style=\"color: #0087ff; text-decoration-color: #0087ff\">BatchNormalization</span>)            │                        │               │\n",
       "├─────────────────────────────────┼────────────────────────┼───────────────┤\n",
       "│ activation (<span style=\"color: #0087ff; text-decoration-color: #0087ff\">Activation</span>)         │ (<span style=\"color: #00d7ff; text-decoration-color: #00d7ff\">None</span>, <span style=\"color: #00af00; text-decoration-color: #00af00\">64</span>)             │             <span style=\"color: #00af00; text-decoration-color: #00af00\">0</span> │\n",
       "├─────────────────────────────────┼────────────────────────┼───────────────┤\n",
       "│ dropout (<span style=\"color: #0087ff; text-decoration-color: #0087ff\">Dropout</span>)               │ (<span style=\"color: #00d7ff; text-decoration-color: #00d7ff\">None</span>, <span style=\"color: #00af00; text-decoration-color: #00af00\">64</span>)             │             <span style=\"color: #00af00; text-decoration-color: #00af00\">0</span> │\n",
       "├─────────────────────────────────┼────────────────────────┼───────────────┤\n",
       "│ dense_1 (<span style=\"color: #0087ff; text-decoration-color: #0087ff\">Dense</span>)                 │ (<span style=\"color: #00d7ff; text-decoration-color: #00d7ff\">None</span>, <span style=\"color: #00af00; text-decoration-color: #00af00\">16</span>)             │         <span style=\"color: #00af00; text-decoration-color: #00af00\">1,040</span> │\n",
       "├─────────────────────────────────┼────────────────────────┼───────────────┤\n",
       "│ batch_normalization_1           │ (<span style=\"color: #00d7ff; text-decoration-color: #00d7ff\">None</span>, <span style=\"color: #00af00; text-decoration-color: #00af00\">16</span>)             │            <span style=\"color: #00af00; text-decoration-color: #00af00\">64</span> │\n",
       "│ (<span style=\"color: #0087ff; text-decoration-color: #0087ff\">BatchNormalization</span>)            │                        │               │\n",
       "├─────────────────────────────────┼────────────────────────┼───────────────┤\n",
       "│ activation_1 (<span style=\"color: #0087ff; text-decoration-color: #0087ff\">Activation</span>)       │ (<span style=\"color: #00d7ff; text-decoration-color: #00d7ff\">None</span>, <span style=\"color: #00af00; text-decoration-color: #00af00\">16</span>)             │             <span style=\"color: #00af00; text-decoration-color: #00af00\">0</span> │\n",
       "├─────────────────────────────────┼────────────────────────┼───────────────┤\n",
       "│ dropout_1 (<span style=\"color: #0087ff; text-decoration-color: #0087ff\">Dropout</span>)             │ (<span style=\"color: #00d7ff; text-decoration-color: #00d7ff\">None</span>, <span style=\"color: #00af00; text-decoration-color: #00af00\">16</span>)             │             <span style=\"color: #00af00; text-decoration-color: #00af00\">0</span> │\n",
       "├─────────────────────────────────┼────────────────────────┼───────────────┤\n",
       "│ dense_2 (<span style=\"color: #0087ff; text-decoration-color: #0087ff\">Dense</span>)                 │ (<span style=\"color: #00d7ff; text-decoration-color: #00d7ff\">None</span>, <span style=\"color: #00af00; text-decoration-color: #00af00\">1</span>)              │            <span style=\"color: #00af00; text-decoration-color: #00af00\">17</span> │\n",
       "└─────────────────────────────────┴────────────────────────┴───────────────┘\n",
       "</pre>\n"
      ],
      "text/plain": [
       "┏━━━━━━━━━━━━━━━━━━━━━━━━━━━━━━━━━┳━━━━━━━━━━━━━━━━━━━━━━━━┳━━━━━━━━━━━━━━━┓\n",
       "┃\u001b[1m \u001b[0m\u001b[1mLayer (type)                   \u001b[0m\u001b[1m \u001b[0m┃\u001b[1m \u001b[0m\u001b[1mOutput Shape          \u001b[0m\u001b[1m \u001b[0m┃\u001b[1m \u001b[0m\u001b[1m      Param #\u001b[0m\u001b[1m \u001b[0m┃\n",
       "┡━━━━━━━━━━━━━━━━━━━━━━━━━━━━━━━━━╇━━━━━━━━━━━━━━━━━━━━━━━━╇━━━━━━━━━━━━━━━┩\n",
       "│ dense (\u001b[38;5;33mDense\u001b[0m)                   │ (\u001b[38;5;45mNone\u001b[0m, \u001b[38;5;34m64\u001b[0m)             │         \u001b[38;5;34m1,664\u001b[0m │\n",
       "├─────────────────────────────────┼────────────────────────┼───────────────┤\n",
       "│ batch_normalization             │ (\u001b[38;5;45mNone\u001b[0m, \u001b[38;5;34m64\u001b[0m)             │           \u001b[38;5;34m256\u001b[0m │\n",
       "│ (\u001b[38;5;33mBatchNormalization\u001b[0m)            │                        │               │\n",
       "├─────────────────────────────────┼────────────────────────┼───────────────┤\n",
       "│ activation (\u001b[38;5;33mActivation\u001b[0m)         │ (\u001b[38;5;45mNone\u001b[0m, \u001b[38;5;34m64\u001b[0m)             │             \u001b[38;5;34m0\u001b[0m │\n",
       "├─────────────────────────────────┼────────────────────────┼───────────────┤\n",
       "│ dropout (\u001b[38;5;33mDropout\u001b[0m)               │ (\u001b[38;5;45mNone\u001b[0m, \u001b[38;5;34m64\u001b[0m)             │             \u001b[38;5;34m0\u001b[0m │\n",
       "├─────────────────────────────────┼────────────────────────┼───────────────┤\n",
       "│ dense_1 (\u001b[38;5;33mDense\u001b[0m)                 │ (\u001b[38;5;45mNone\u001b[0m, \u001b[38;5;34m16\u001b[0m)             │         \u001b[38;5;34m1,040\u001b[0m │\n",
       "├─────────────────────────────────┼────────────────────────┼───────────────┤\n",
       "│ batch_normalization_1           │ (\u001b[38;5;45mNone\u001b[0m, \u001b[38;5;34m16\u001b[0m)             │            \u001b[38;5;34m64\u001b[0m │\n",
       "│ (\u001b[38;5;33mBatchNormalization\u001b[0m)            │                        │               │\n",
       "├─────────────────────────────────┼────────────────────────┼───────────────┤\n",
       "│ activation_1 (\u001b[38;5;33mActivation\u001b[0m)       │ (\u001b[38;5;45mNone\u001b[0m, \u001b[38;5;34m16\u001b[0m)             │             \u001b[38;5;34m0\u001b[0m │\n",
       "├─────────────────────────────────┼────────────────────────┼───────────────┤\n",
       "│ dropout_1 (\u001b[38;5;33mDropout\u001b[0m)             │ (\u001b[38;5;45mNone\u001b[0m, \u001b[38;5;34m16\u001b[0m)             │             \u001b[38;5;34m0\u001b[0m │\n",
       "├─────────────────────────────────┼────────────────────────┼───────────────┤\n",
       "│ dense_2 (\u001b[38;5;33mDense\u001b[0m)                 │ (\u001b[38;5;45mNone\u001b[0m, \u001b[38;5;34m1\u001b[0m)              │            \u001b[38;5;34m17\u001b[0m │\n",
       "└─────────────────────────────────┴────────────────────────┴───────────────┘\n"
      ]
     },
     "metadata": {},
     "output_type": "display_data"
    },
    {
     "data": {
      "text/html": [
       "<pre style=\"white-space:pre;overflow-x:auto;line-height:normal;font-family:Menlo,'DejaVu Sans Mono',consolas,'Courier New',monospace\"><span style=\"font-weight: bold\"> Total params: </span><span style=\"color: #00af00; text-decoration-color: #00af00\">3,041</span> (11.88 KB)\n",
       "</pre>\n"
      ],
      "text/plain": [
       "\u001b[1m Total params: \u001b[0m\u001b[38;5;34m3,041\u001b[0m (11.88 KB)\n"
      ]
     },
     "metadata": {},
     "output_type": "display_data"
    },
    {
     "data": {
      "text/html": [
       "<pre style=\"white-space:pre;overflow-x:auto;line-height:normal;font-family:Menlo,'DejaVu Sans Mono',consolas,'Courier New',monospace\"><span style=\"font-weight: bold\"> Trainable params: </span><span style=\"color: #00af00; text-decoration-color: #00af00\">2,881</span> (11.25 KB)\n",
       "</pre>\n"
      ],
      "text/plain": [
       "\u001b[1m Trainable params: \u001b[0m\u001b[38;5;34m2,881\u001b[0m (11.25 KB)\n"
      ]
     },
     "metadata": {},
     "output_type": "display_data"
    },
    {
     "data": {
      "text/html": [
       "<pre style=\"white-space:pre;overflow-x:auto;line-height:normal;font-family:Menlo,'DejaVu Sans Mono',consolas,'Courier New',monospace\"><span style=\"font-weight: bold\"> Non-trainable params: </span><span style=\"color: #00af00; text-decoration-color: #00af00\">160</span> (640.00 B)\n",
       "</pre>\n"
      ],
      "text/plain": [
       "\u001b[1m Non-trainable params: \u001b[0m\u001b[38;5;34m160\u001b[0m (640.00 B)\n"
      ]
     },
     "metadata": {},
     "output_type": "display_data"
    }
   ],
   "source": [
    "model.summary()"
   ]
  },
  {
   "cell_type": "code",
   "execution_count": 37,
   "id": "05396831",
   "metadata": {
    "execution": {
     "iopub.execute_input": "2025-02-22T18:53:50.071113Z",
     "iopub.status.busy": "2025-02-22T18:53:50.070763Z",
     "iopub.status.idle": "2025-02-22T18:53:50.083589Z",
     "shell.execute_reply": "2025-02-22T18:53:50.082911Z"
    },
    "papermill": {
     "duration": 0.029466,
     "end_time": "2025-02-22T18:53:50.085190",
     "exception": false,
     "start_time": "2025-02-22T18:53:50.055724",
     "status": "completed"
    },
    "tags": []
   },
   "outputs": [],
   "source": [
    "model.compile(optimizer='adam',\n",
    "              loss='binary_crossentropy',\n",
    "              metrics=['accuracy'])\n"
   ]
  },
  {
   "cell_type": "code",
   "execution_count": null,
   "id": "70195b37",
   "metadata": {
    "execution": {
     "iopub.execute_input": "2025-02-22T18:53:50.115273Z",
     "iopub.status.busy": "2025-02-22T18:53:50.114625Z",
     "iopub.status.idle": "2025-02-22T18:58:08.645471Z",
     "shell.execute_reply": "2025-02-22T18:58:08.644582Z"
    },
    "papermill": {
     "duration": 258.547778,
     "end_time": "2025-02-22T18:58:08.647104",
     "exception": false,
     "start_time": "2025-02-22T18:53:50.099326",
     "status": "completed"
    },
    "tags": []
   },
   "outputs": [
    {
     "name": "stdout",
     "output_type": "stream",
     "text": [
      "Epoch 1/20\n"
     ]
    },
    {
     "name": "stderr",
     "output_type": "stream",
     "text": [
      "WARNING: All log messages before absl::InitializeLog() is called are written to STDERR\n",
      "I0000 00:00:1740250432.103216      67 service.cc:145] XLA service 0x7e1d8c006930 initialized for platform CUDA (this does not guarantee that XLA will be used). Devices:\n",
      "I0000 00:00:1740250432.103273      67 service.cc:153]   StreamExecutor device (0): Tesla P100-PCIE-16GB, Compute Capability 6.0\n"
     ]
    },
    {
     "name": "stdout",
     "output_type": "stream",
     "text": [
      "\u001b[1m  94/6436\u001b[0m \u001b[37m━━━━━━━━━━━━━━━━━━━━\u001b[0m \u001b[1m10s\u001b[0m 2ms/step - accuracy: 0.7003 - loss: 0.5839"
     ]
    },
    {
     "name": "stderr",
     "output_type": "stream",
     "text": [
      "I0000 00:00:1740250435.730672      67 device_compiler.h:188] Compiled cluster using XLA!  This line is logged at most once for the lifetime of the process.\n"
     ]
    },
    {
     "name": "stdout",
     "output_type": "stream",
     "text": [
      "\u001b[1m6436/6436\u001b[0m \u001b[32m━━━━━━━━━━━━━━━━━━━━\u001b[0m\u001b[37m\u001b[0m \u001b[1m20s\u001b[0m 2ms/step - accuracy: 0.9074 - loss: 0.2201 - val_accuracy: 0.9533 - val_loss: 0.1112\n",
      "Epoch 2/20\n",
      "\u001b[1m6436/6436\u001b[0m \u001b[32m━━━━━━━━━━━━━━━━━━━━\u001b[0m\u001b[37m\u001b[0m \u001b[1m11s\u001b[0m 2ms/step - accuracy: 0.9411 - loss: 0.1423 - val_accuracy: 0.9550 - val_loss: 0.1010\n",
      "Epoch 3/20\n",
      "\u001b[1m6436/6436\u001b[0m \u001b[32m━━━━━━━━━━━━━━━━━━━━\u001b[0m\u001b[37m\u001b[0m \u001b[1m12s\u001b[0m 2ms/step - accuracy: 0.9436 - loss: 0.1332 - val_accuracy: 0.9557 - val_loss: 0.1062\n",
      "Epoch 4/20\n",
      "\u001b[1m6436/6436\u001b[0m \u001b[32m━━━━━━━━━━━━━━━━━━━━\u001b[0m\u001b[37m\u001b[0m \u001b[1m11s\u001b[0m 2ms/step - accuracy: 0.9453 - loss: 0.1291 - val_accuracy: 0.9572 - val_loss: 0.0989\n",
      "Epoch 5/20\n",
      "\u001b[1m6436/6436\u001b[0m \u001b[32m━━━━━━━━━━━━━━━━━━━━\u001b[0m\u001b[37m\u001b[0m \u001b[1m11s\u001b[0m 2ms/step - accuracy: 0.9466 - loss: 0.1262 - val_accuracy: 0.9590 - val_loss: 0.1028\n",
      "Epoch 6/20\n",
      "\u001b[1m6436/6436\u001b[0m \u001b[32m━━━━━━━━━━━━━━━━━━━━\u001b[0m\u001b[37m\u001b[0m \u001b[1m12s\u001b[0m 2ms/step - accuracy: 0.9470 - loss: 0.1246 - val_accuracy: 0.9547 - val_loss: 0.1033\n",
      "Epoch 7/20\n",
      "\u001b[1m6436/6436\u001b[0m \u001b[32m━━━━━━━━━━━━━━━━━━━━\u001b[0m\u001b[37m\u001b[0m \u001b[1m11s\u001b[0m 2ms/step - accuracy: 0.9472 - loss: 0.1238 - val_accuracy: 0.9490 - val_loss: 0.1136\n",
      "Epoch 8/20\n",
      "\u001b[1m6436/6436\u001b[0m \u001b[32m━━━━━━━━━━━━━━━━━━━━\u001b[0m\u001b[37m\u001b[0m \u001b[1m11s\u001b[0m 2ms/step - accuracy: 0.9476 - loss: 0.1221 - val_accuracy: 0.9607 - val_loss: 0.0995\n",
      "Epoch 9/20\n",
      "\u001b[1m6436/6436\u001b[0m \u001b[32m━━━━━━━━━━━━━━━━━━━━\u001b[0m\u001b[37m\u001b[0m \u001b[1m11s\u001b[0m 2ms/step - accuracy: 0.9481 - loss: 0.1215 - val_accuracy: 0.9432 - val_loss: 0.1206\n",
      "Epoch 10/20\n",
      "\u001b[1m6436/6436\u001b[0m \u001b[32m━━━━━━━━━━━━━━━━━━━━\u001b[0m\u001b[37m\u001b[0m \u001b[1m11s\u001b[0m 2ms/step - accuracy: 0.9481 - loss: 0.1211 - val_accuracy: 0.9592 - val_loss: 0.1009\n",
      "Epoch 11/20\n",
      "\u001b[1m6436/6436\u001b[0m \u001b[32m━━━━━━━━━━━━━━━━━━━━\u001b[0m\u001b[37m\u001b[0m \u001b[1m11s\u001b[0m 2ms/step - accuracy: 0.9483 - loss: 0.1207 - val_accuracy: 0.9606 - val_loss: 0.0991\n",
      "Epoch 12/20\n",
      "\u001b[1m6436/6436\u001b[0m \u001b[32m━━━━━━━━━━━━━━━━━━━━\u001b[0m\u001b[37m\u001b[0m \u001b[1m11s\u001b[0m 2ms/step - accuracy: 0.9489 - loss: 0.1198 - val_accuracy: 0.9580 - val_loss: 0.1001\n",
      "Epoch 13/20\n",
      "\u001b[1m6436/6436\u001b[0m \u001b[32m━━━━━━━━━━━━━━━━━━━━\u001b[0m\u001b[37m\u001b[0m \u001b[1m11s\u001b[0m 2ms/step - accuracy: 0.9491 - loss: 0.1192 - val_accuracy: 0.9598 - val_loss: 0.0930\n",
      "Epoch 14/20\n",
      "\u001b[1m6436/6436\u001b[0m \u001b[32m━━━━━━━━━━━━━━━━━━━━\u001b[0m\u001b[37m\u001b[0m \u001b[1m11s\u001b[0m 2ms/step - accuracy: 0.9488 - loss: 0.1196 - val_accuracy: 0.9566 - val_loss: 0.1044\n",
      "Epoch 15/20\n",
      "\u001b[1m6436/6436\u001b[0m \u001b[32m━━━━━━━━━━━━━━━━━━━━\u001b[0m\u001b[37m\u001b[0m \u001b[1m11s\u001b[0m 2ms/step - accuracy: 0.9492 - loss: 0.1187 - val_accuracy: 0.9608 - val_loss: 0.0895\n",
      "Epoch 16/20\n",
      "\u001b[1m6436/6436\u001b[0m \u001b[32m━━━━━━━━━━━━━━━━━━━━\u001b[0m\u001b[37m\u001b[0m \u001b[1m11s\u001b[0m 2ms/step - accuracy: 0.9494 - loss: 0.1187 - val_accuracy: 0.9489 - val_loss: 0.1122\n",
      "Epoch 17/20\n",
      "\u001b[1m6436/6436\u001b[0m \u001b[32m━━━━━━━━━━━━━━━━━━━━\u001b[0m\u001b[37m\u001b[0m \u001b[1m11s\u001b[0m 2ms/step - accuracy: 0.9491 - loss: 0.1180 - val_accuracy: 0.9557 - val_loss: 0.1019\n",
      "Epoch 18/20\n",
      "\u001b[1m6436/6436\u001b[0m \u001b[32m━━━━━━━━━━━━━━━━━━━━\u001b[0m\u001b[37m\u001b[0m \u001b[1m11s\u001b[0m 2ms/step - accuracy: 0.9495 - loss: 0.1184 - val_accuracy: 0.9641 - val_loss: 0.0848\n",
      "Epoch 19/20\n",
      "\u001b[1m6436/6436\u001b[0m \u001b[32m━━━━━━━━━━━━━━━━━━━━\u001b[0m\u001b[37m\u001b[0m \u001b[1m11s\u001b[0m 2ms/step - accuracy: 0.9493 - loss: 0.1182 - val_accuracy: 0.9558 - val_loss: 0.1008\n",
      "Epoch 20/20\n",
      "\u001b[1m6436/6436\u001b[0m \u001b[32m━━━━━━━━━━━━━━━━━━━━\u001b[0m\u001b[37m\u001b[0m \u001b[1m11s\u001b[0m 2ms/step - accuracy: 0.9494 - loss: 0.1180 - val_accuracy: 0.9544 - val_loss: 0.1064\n",
      "\u001b[1m21548/21548\u001b[0m \u001b[32m━━━━━━━━━━━━━━━━━━━━\u001b[0m\u001b[37m\u001b[0m \u001b[1m26s\u001b[0m 1ms/step - accuracy: 0.9550 - loss: 0.1063\n",
      "Test Accuracy: 0.95\n"
     ]
    }
   ],
   "source": [
    "history = model.fit(X_train, y_train, epochs=20, batch_size=200, validation_split=0.2)\n",
    "\n",
    "\n",
    "test_loss, test_accuracy = model.evaluate(X_test, y_test)\n",
    "print(f\"Test Accuracy: {test_accuracy:.2f}\")"
   ]
  },
  {
   "cell_type": "code",
   "execution_count": 39,
   "id": "5fa0527a",
   "metadata": {
    "execution": {
     "iopub.execute_input": "2025-02-22T18:58:09.075103Z",
     "iopub.status.busy": "2025-02-22T18:58:09.074585Z",
     "iopub.status.idle": "2025-02-22T18:58:45.468393Z",
     "shell.execute_reply": "2025-02-22T18:58:45.467390Z"
    },
    "papermill": {
     "duration": 36.613048,
     "end_time": "2025-02-22T18:58:45.470486",
     "exception": false,
     "start_time": "2025-02-22T18:58:08.857438",
     "status": "completed"
    },
    "tags": []
   },
   "outputs": [
    {
     "name": "stdout",
     "output_type": "stream",
     "text": [
      "\u001b[1m21548/21548\u001b[0m \u001b[32m━━━━━━━━━━━━━━━━━━━━\u001b[0m\u001b[37m\u001b[0m \u001b[1m24s\u001b[0m 1ms/step\n"
     ]
    }
   ],
   "source": [
    "y_p = model.predict(X_test)"
   ]
  },
  {
   "cell_type": "code",
   "execution_count": 40,
   "id": "c9ca67e9",
   "metadata": {
    "execution": {
     "iopub.execute_input": "2025-02-22T18:58:45.978096Z",
     "iopub.status.busy": "2025-02-22T18:58:45.977724Z",
     "iopub.status.idle": "2025-02-22T19:00:59.644970Z",
     "shell.execute_reply": "2025-02-22T19:00:59.644194Z"
    },
    "papermill": {
     "duration": 133.897983,
     "end_time": "2025-02-22T19:00:59.647259",
     "exception": false,
     "start_time": "2025-02-22T18:58:45.749276",
     "status": "completed"
    },
    "tags": []
   },
   "outputs": [],
   "source": [
    "from sklearn.tree import DecisionTreeClassifier \n",
    "dt = DecisionTreeClassifier()\n",
    "dt.fit(X_train,y_train)\n",
    "y_p = dt.predict(X_test)"
   ]
  },
  {
   "cell_type": "code",
   "execution_count": 41,
   "id": "bfd42fd6",
   "metadata": {
    "execution": {
     "iopub.execute_input": "2025-02-22T19:01:00.105100Z",
     "iopub.status.busy": "2025-02-22T19:01:00.104739Z",
     "iopub.status.idle": "2025-02-22T19:01:30.788316Z",
     "shell.execute_reply": "2025-02-22T19:01:30.787540Z"
    },
    "papermill": {
     "duration": 30.915166,
     "end_time": "2025-02-22T19:01:30.790692",
     "exception": false,
     "start_time": "2025-02-22T19:00:59.875526",
     "status": "completed"
    },
    "tags": []
   },
   "outputs": [
    {
     "name": "stdout",
     "output_type": "stream",
     "text": [
      "\u001b[1m21548/21548\u001b[0m \u001b[32m━━━━━━━━━━━━━━━━━━━━\u001b[0m\u001b[37m\u001b[0m \u001b[1m23s\u001b[0m 1ms/step\n"
     ]
    }
   ],
   "source": [
    "y_p = model.predict(X_test)"
   ]
  },
  {
   "cell_type": "code",
   "execution_count": 42,
   "id": "3411296b",
   "metadata": {
    "execution": {
     "iopub.execute_input": "2025-02-22T19:01:31.344660Z",
     "iopub.status.busy": "2025-02-22T19:01:31.344299Z",
     "iopub.status.idle": "2025-02-22T19:01:31.349199Z",
     "shell.execute_reply": "2025-02-22T19:01:31.348474Z"
    },
    "papermill": {
     "duration": 0.305634,
     "end_time": "2025-02-22T19:01:31.350880",
     "exception": false,
     "start_time": "2025-02-22T19:01:31.045246",
     "status": "completed"
    },
    "tags": []
   },
   "outputs": [],
   "source": [
    "class_predictions = (y_p >= 0.5).astype(int)\n"
   ]
  },
  {
   "cell_type": "code",
   "execution_count": 43,
   "id": "0621c7ca",
   "metadata": {
    "execution": {
     "iopub.execute_input": "2025-02-22T19:01:31.848234Z",
     "iopub.status.busy": "2025-02-22T19:01:31.847841Z",
     "iopub.status.idle": "2025-02-22T19:01:31.853881Z",
     "shell.execute_reply": "2025-02-22T19:01:31.853035Z"
    },
    "papermill": {
     "duration": 0.257137,
     "end_time": "2025-02-22T19:01:31.855735",
     "exception": false,
     "start_time": "2025-02-22T19:01:31.598598",
     "status": "completed"
    },
    "tags": []
   },
   "outputs": [
    {
     "data": {
      "text/plain": [
       "array([[0],\n",
       "       [1],\n",
       "       [1],\n",
       "       ...,\n",
       "       [0],\n",
       "       [0],\n",
       "       [0]])"
      ]
     },
     "execution_count": 43,
     "metadata": {},
     "output_type": "execute_result"
    }
   ],
   "source": [
    "class_predictions"
   ]
  },
  {
   "cell_type": "code",
   "execution_count": 44,
   "id": "89504285",
   "metadata": {
    "execution": {
     "iopub.execute_input": "2025-02-22T19:01:32.355081Z",
     "iopub.status.busy": "2025-02-22T19:01:32.354690Z",
     "iopub.status.idle": "2025-02-22T19:01:32.361619Z",
     "shell.execute_reply": "2025-02-22T19:01:32.360753Z"
    },
    "papermill": {
     "duration": 0.257671,
     "end_time": "2025-02-22T19:01:32.363303",
     "exception": false,
     "start_time": "2025-02-22T19:01:32.105632",
     "status": "completed"
    },
    "tags": []
   },
   "outputs": [
    {
     "data": {
      "text/plain": [
       "148381    0\n",
       "295349    1\n",
       "636529    1\n",
       "472228    1\n",
       "356340    1\n",
       "         ..\n",
       "253495    0\n",
       "163627    1\n",
       "190502    1\n",
       "107445    0\n",
       "19844     0\n",
       "Name:  Label, Length: 689519, dtype: int64"
      ]
     },
     "execution_count": 44,
     "metadata": {},
     "output_type": "execute_result"
    }
   ],
   "source": [
    "y_test"
   ]
  },
  {
   "cell_type": "code",
   "execution_count": 45,
   "id": "14e6b4b8",
   "metadata": {
    "execution": {
     "iopub.execute_input": "2025-02-22T19:01:32.908489Z",
     "iopub.status.busy": "2025-02-22T19:01:32.908126Z",
     "iopub.status.idle": "2025-02-22T19:01:32.941232Z",
     "shell.execute_reply": "2025-02-22T19:01:32.940199Z"
    },
    "papermill": {
     "duration": 0.284787,
     "end_time": "2025-02-22T19:01:32.942882",
     "exception": false,
     "start_time": "2025-02-22T19:01:32.658095",
     "status": "completed"
    },
    "tags": []
   },
   "outputs": [
    {
     "name": "stdout",
     "output_type": "stream",
     "text": [
      "[[145819  21148]\n",
      " [  9941 512611]]\n"
     ]
    }
   ],
   "source": [
    "from sklearn.metrics import confusion_matrix \n",
    "print(confusion_matrix(y_test,class_predictions))"
   ]
  },
  {
   "cell_type": "code",
   "execution_count": 46,
   "id": "972cd9bb",
   "metadata": {
    "execution": {
     "iopub.execute_input": "2025-02-22T19:01:33.442510Z",
     "iopub.status.busy": "2025-02-22T19:01:33.442148Z",
     "iopub.status.idle": "2025-02-22T19:01:33.446677Z",
     "shell.execute_reply": "2025-02-22T19:01:33.445978Z"
    },
    "papermill": {
     "duration": 0.255584,
     "end_time": "2025-02-22T19:01:33.448402",
     "exception": false,
     "start_time": "2025-02-22T19:01:33.192818",
     "status": "completed"
    },
    "tags": []
   },
   "outputs": [],
   "source": [
    "y_p = np.argmax(y_p)"
   ]
  },
  {
   "cell_type": "code",
   "execution_count": null,
   "id": "af9c88c4",
   "metadata": {
    "execution": {
     "iopub.execute_input": "2025-02-22T19:01:33.996604Z",
     "iopub.status.busy": "2025-02-22T19:01:33.996245Z",
     "iopub.status.idle": "2025-02-22T19:01:34.363268Z",
     "shell.execute_reply": "2025-02-22T19:01:34.362325Z"
    },
    "papermill": {
     "duration": 0.669461,
     "end_time": "2025-02-22T19:01:34.365058",
     "exception": false,
     "start_time": "2025-02-22T19:01:33.695597",
     "status": "completed"
    },
    "tags": []
   },
   "outputs": [
    {
     "data": {
      "image/png": "[encoded data removed]",
      "text/plain": [
       "<Figure size 640x480 with 1 Axes>"
      ]
     },
     "metadata": {},
     "output_type": "display_data"
    }
   ],
   "source": [
    "y_p = dt.predict(X_test)\n",
    "from sklearn.metrics import roc_curve, roc_auc_score\n",
    "import matplotlib.pyplot as plt\n",
    "fpr, tpr, thresholds = roc_curve(class_predictions, y_test)\n",
    "\n",
    "\n",
    "auc = roc_auc_score(class_predictions, y_test)\n",
    "\n",
    "\n",
    "plt.figure()\n",
    "plt.plot(fpr, tpr, label=f\"ROC curve (AUC = {auc:.2f})\")\n",
    "plt.plot([0, 1], [0, 1], 'k--', label=\"Random Guessing\")\n",
    "plt.xlabel(\"False Positive Rate\")\n",
    "plt.ylabel(\"True Positive Rate\")\n",
    "plt.title(\"Receiver Operating Characteristic\")\n",
    "plt.legend(loc=\"lower right\")\n",
    "plt.show()"
   ]
  },
  {
   "cell_type": "code",
   "execution_count": 48,
   "id": "29fd8e7e",
   "metadata": {
    "execution": {
     "iopub.execute_input": "2025-02-22T19:01:34.871420Z",
     "iopub.status.busy": "2025-02-22T19:01:34.871056Z",
     "iopub.status.idle": "2025-02-22T19:01:34.918260Z",
     "shell.execute_reply": "2025-02-22T19:01:34.917104Z"
    },
    "papermill": {
     "duration": 0.302381,
     "end_time": "2025-02-22T19:01:34.920148",
     "exception": false,
     "start_time": "2025-02-22T19:01:34.617767",
     "status": "completed"
    },
    "tags": []
   },
   "outputs": [],
   "source": [
    "from joblib import dump\n",
    "dump(scaler,'scaler.joblib')\n",
    "dump(pca,'pca.joblib')\n",
    "model.save('model.h5')"
   ]
  },
  {
   "cell_type": "code",
   "execution_count": 49,
   "id": "4511944d",
   "metadata": {
    "execution": {
     "iopub.execute_input": "2025-02-22T19:01:35.421069Z",
     "iopub.status.busy": "2025-02-22T19:01:35.420666Z",
     "iopub.status.idle": "2025-02-22T19:01:35.427632Z",
     "shell.execute_reply": "2025-02-22T19:01:35.426780Z"
    },
    "papermill": {
     "duration": 0.258012,
     "end_time": "2025-02-22T19:01:35.429151",
     "exception": false,
     "start_time": "2025-02-22T19:01:35.171139",
     "status": "completed"
    },
    "tags": []
   },
   "outputs": [
    {
     "data": {
      "text/plain": [
       "226862    0\n",
       "504401    1\n",
       "24178     1\n",
       "167388    1\n",
       "8355      1\n",
       "         ..\n",
       "266213    1\n",
       "126543    0\n",
       "200236    1\n",
       "249360    1\n",
       "153520    1\n",
       "Name:  Label, Length: 1608876, dtype: int64"
      ]
     },
     "execution_count": 49,
     "metadata": {},
     "output_type": "execute_result"
    }
   ],
   "source": [
    "y_train"
   ]
  },
  {
   "cell_type": "code",
   "execution_count": 50,
   "id": "3da97525",
   "metadata": {
    "execution": {
     "iopub.execute_input": "2025-02-22T19:01:35.989413Z",
     "iopub.status.busy": "2025-02-22T19:01:35.989012Z",
     "iopub.status.idle": "2025-02-22T19:01:35.996498Z",
     "shell.execute_reply": "2025-02-22T19:01:35.995534Z"
    },
    "papermill": {
     "duration": 0.27316,
     "end_time": "2025-02-22T19:01:35.998469",
     "exception": false,
     "start_time": "2025-02-22T19:01:35.725309",
     "status": "completed"
    },
    "tags": []
   },
   "outputs": [
    {
     "data": {
      "text/plain": [
       "148381    0\n",
       "295349    1\n",
       "636529    1\n",
       "472228    1\n",
       "356340    1\n",
       "         ..\n",
       "253495    0\n",
       "163627    1\n",
       "190502    1\n",
       "107445    0\n",
       "19844     0\n",
       "Name:  Label, Length: 689519, dtype: int64"
      ]
     },
     "execution_count": 50,
     "metadata": {},
     "output_type": "execute_result"
    }
   ],
   "source": [
    "y_test"
   ]
  },
  {
   "cell_type": "code",
   "execution_count": 51,
   "id": "e15799e9",
   "metadata": {
    "execution": {
     "iopub.execute_input": "2025-02-22T19:01:36.551253Z",
     "iopub.status.busy": "2025-02-22T19:01:36.550861Z",
     "iopub.status.idle": "2025-02-22T19:01:36.859622Z",
     "shell.execute_reply": "2025-02-22T19:01:36.858897Z"
    },
    "papermill": {
     "duration": 0.596796,
     "end_time": "2025-02-22T19:01:36.861674",
     "exception": false,
     "start_time": "2025-02-22T19:01:36.264878",
     "status": "completed"
    },
    "tags": []
   },
   "outputs": [],
   "source": [
    "filtered_df = df_attack[df_attack[' Label'] == 0]\n"
   ]
  },
  {
   "cell_type": "code",
   "execution_count": 52,
   "id": "1d06da91",
   "metadata": {
    "execution": {
     "iopub.execute_input": "2025-02-22T19:01:37.407924Z",
     "iopub.status.busy": "2025-02-22T19:01:37.407567Z",
     "iopub.status.idle": "2025-02-22T19:01:37.429153Z",
     "shell.execute_reply": "2025-02-22T19:01:37.428305Z"
    },
    "papermill": {
     "duration": 0.272947,
     "end_time": "2025-02-22T19:01:37.430880",
     "exception": false,
     "start_time": "2025-02-22T19:01:37.157933",
     "status": "completed"
    },
    "tags": []
   },
   "outputs": [
    {
     "data": {
      "text/html": [
       "<div>\n",
       "<style scoped>\n",
       "    .dataframe tbody tr th:only-of-type {\n",
       "        vertical-align: middle;\n",
       "    }\n",
       "\n",
       "    .dataframe tbody tr th {\n",
       "        vertical-align: top;\n",
       "    }\n",
       "\n",
       "    .dataframe thead th {\n",
       "        text-align: right;\n",
       "    }\n",
       "</style>\n",
       "<table border=\"1\" class=\"dataframe\">\n",
       "  <thead>\n",
       "    <tr style=\"text-align: right;\">\n",
       "      <th></th>\n",
       "      <th>Destination Port</th>\n",
       "      <th>Flow Duration</th>\n",
       "      <th>Total Fwd Packets</th>\n",
       "      <th>Total Backward Packets</th>\n",
       "      <th>Total Length of Fwd Packets</th>\n",
       "      <th>Total Length of Bwd Packets</th>\n",
       "      <th>Fwd Packet Length Max</th>\n",
       "      <th>Fwd Packet Length Min</th>\n",
       "      <th>Fwd Packet Length Mean</th>\n",
       "      <th>Fwd Packet Length Std</th>\n",
       "      <th>...</th>\n",
       "      <th>min_seg_size_forward</th>\n",
       "      <th>Active Mean</th>\n",
       "      <th>Active Std</th>\n",
       "      <th>Active Max</th>\n",
       "      <th>Active Min</th>\n",
       "      <th>Idle Mean</th>\n",
       "      <th>Idle Std</th>\n",
       "      <th>Idle Max</th>\n",
       "      <th>Idle Min</th>\n",
       "      <th>Label</th>\n",
       "    </tr>\n",
       "  </thead>\n",
       "  <tbody>\n",
       "    <tr>\n",
       "      <th>18883</th>\n",
       "      <td>-0.424337</td>\n",
       "      <td>-0.419298</td>\n",
       "      <td>-0.008595</td>\n",
       "      <td>-0.003297</td>\n",
       "      <td>-0.049405</td>\n",
       "      <td>-0.001930</td>\n",
       "      <td>-0.250109</td>\n",
       "      <td>-0.284113</td>\n",
       "      <td>-0.254334</td>\n",
       "      <td>-0.201809</td>\n",
       "      <td>...</td>\n",
       "      <td>0.002182</td>\n",
       "      <td>-0.127810</td>\n",
       "      <td>-0.103604</td>\n",
       "      <td>-0.151215</td>\n",
       "      <td>-0.103877</td>\n",
       "      <td>-0.372558</td>\n",
       "      <td>-0.114784</td>\n",
       "      <td>-0.377913</td>\n",
       "      <td>-0.358824</td>\n",
       "      <td>0</td>\n",
       "    </tr>\n",
       "    <tr>\n",
       "      <th>18884</th>\n",
       "      <td>-0.424337</td>\n",
       "      <td>-0.328940</td>\n",
       "      <td>-0.007193</td>\n",
       "      <td>-0.010646</td>\n",
       "      <td>-0.049592</td>\n",
       "      <td>-0.007310</td>\n",
       "      <td>-0.268388</td>\n",
       "      <td>-0.191285</td>\n",
       "      <td>-0.267559</td>\n",
       "      <td>-0.235583</td>\n",
       "      <td>...</td>\n",
       "      <td>0.002182</td>\n",
       "      <td>-0.127810</td>\n",
       "      <td>-0.103604</td>\n",
       "      <td>-0.151215</td>\n",
       "      <td>-0.103877</td>\n",
       "      <td>-0.372558</td>\n",
       "      <td>-0.114784</td>\n",
       "      <td>-0.377913</td>\n",
       "      <td>-0.358824</td>\n",
       "      <td>0</td>\n",
       "    </tr>\n",
       "    <tr>\n",
       "      <th>18885</th>\n",
       "      <td>-0.424337</td>\n",
       "      <td>-0.425373</td>\n",
       "      <td>-0.008595</td>\n",
       "      <td>-0.004347</td>\n",
       "      <td>-0.049405</td>\n",
       "      <td>-0.001933</td>\n",
       "      <td>-0.250109</td>\n",
       "      <td>-0.284113</td>\n",
       "      <td>-0.254334</td>\n",
       "      <td>-0.201809</td>\n",
       "      <td>...</td>\n",
       "      <td>0.002182</td>\n",
       "      <td>-0.127810</td>\n",
       "      <td>-0.103604</td>\n",
       "      <td>-0.151215</td>\n",
       "      <td>-0.103877</td>\n",
       "      <td>-0.372558</td>\n",
       "      <td>-0.114784</td>\n",
       "      <td>-0.377913</td>\n",
       "      <td>-0.358824</td>\n",
       "      <td>0</td>\n",
       "    </tr>\n",
       "    <tr>\n",
       "      <th>18886</th>\n",
       "      <td>-0.424337</td>\n",
       "      <td>1.855562</td>\n",
       "      <td>-0.001582</td>\n",
       "      <td>-0.006447</td>\n",
       "      <td>-0.046595</td>\n",
       "      <td>-0.001933</td>\n",
       "      <td>-0.250109</td>\n",
       "      <td>-0.284113</td>\n",
       "      <td>-0.262599</td>\n",
       "      <td>-0.216968</td>\n",
       "      <td>...</td>\n",
       "      <td>0.002182</td>\n",
       "      <td>-0.126392</td>\n",
       "      <td>-0.103604</td>\n",
       "      <td>-0.150299</td>\n",
       "      <td>-0.102295</td>\n",
       "      <td>1.178638</td>\n",
       "      <td>8.730398</td>\n",
       "      <td>2.325245</td>\n",
       "      <td>-0.036798</td>\n",
       "      <td>0</td>\n",
       "    </tr>\n",
       "    <tr>\n",
       "      <th>18887</th>\n",
       "      <td>-0.424337</td>\n",
       "      <td>-0.438110</td>\n",
       "      <td>-0.008595</td>\n",
       "      <td>-0.004347</td>\n",
       "      <td>-0.049405</td>\n",
       "      <td>-0.001930</td>\n",
       "      <td>-0.250109</td>\n",
       "      <td>-0.284113</td>\n",
       "      <td>-0.254334</td>\n",
       "      <td>-0.201809</td>\n",
       "      <td>...</td>\n",
       "      <td>0.002182</td>\n",
       "      <td>-0.127810</td>\n",
       "      <td>-0.103604</td>\n",
       "      <td>-0.151215</td>\n",
       "      <td>-0.103877</td>\n",
       "      <td>-0.372558</td>\n",
       "      <td>-0.114784</td>\n",
       "      <td>-0.377913</td>\n",
       "      <td>-0.358824</td>\n",
       "      <td>0</td>\n",
       "    </tr>\n",
       "  </tbody>\n",
       "</table>\n",
       "<p>5 rows × 79 columns</p>\n",
       "</div>"
      ],
      "text/plain": [
       "        Destination Port   Flow Duration   Total Fwd Packets  \\\n",
       "18883          -0.424337       -0.419298           -0.008595   \n",
       "18884          -0.424337       -0.328940           -0.007193   \n",
       "18885          -0.424337       -0.425373           -0.008595   \n",
       "18886          -0.424337        1.855562           -0.001582   \n",
       "18887          -0.424337       -0.438110           -0.008595   \n",
       "\n",
       "        Total Backward Packets  Total Length of Fwd Packets  \\\n",
       "18883                -0.003297                    -0.049405   \n",
       "18884                -0.010646                    -0.049592   \n",
       "18885                -0.004347                    -0.049405   \n",
       "18886                -0.006447                    -0.046595   \n",
       "18887                -0.004347                    -0.049405   \n",
       "\n",
       "        Total Length of Bwd Packets   Fwd Packet Length Max  \\\n",
       "18883                     -0.001930               -0.250109   \n",
       "18884                     -0.007310               -0.268388   \n",
       "18885                     -0.001933               -0.250109   \n",
       "18886                     -0.001933               -0.250109   \n",
       "18887                     -0.001930               -0.250109   \n",
       "\n",
       "        Fwd Packet Length Min   Fwd Packet Length Mean  \\\n",
       "18883               -0.284113                -0.254334   \n",
       "18884               -0.191285                -0.267559   \n",
       "18885               -0.284113                -0.254334   \n",
       "18886               -0.284113                -0.262599   \n",
       "18887               -0.284113                -0.254334   \n",
       "\n",
       "        Fwd Packet Length Std  ...   min_seg_size_forward  Active Mean  \\\n",
       "18883               -0.201809  ...               0.002182    -0.127810   \n",
       "18884               -0.235583  ...               0.002182    -0.127810   \n",
       "18885               -0.201809  ...               0.002182    -0.127810   \n",
       "18886               -0.216968  ...               0.002182    -0.126392   \n",
       "18887               -0.201809  ...               0.002182    -0.127810   \n",
       "\n",
       "        Active Std   Active Max   Active Min  Idle Mean   Idle Std   Idle Max  \\\n",
       "18883    -0.103604    -0.151215    -0.103877  -0.372558  -0.114784  -0.377913   \n",
       "18884    -0.103604    -0.151215    -0.103877  -0.372558  -0.114784  -0.377913   \n",
       "18885    -0.103604    -0.151215    -0.103877  -0.372558  -0.114784  -0.377913   \n",
       "18886    -0.103604    -0.150299    -0.102295   1.178638   8.730398   2.325245   \n",
       "18887    -0.103604    -0.151215    -0.103877  -0.372558  -0.114784  -0.377913   \n",
       "\n",
       "        Idle Min   Label  \n",
       "18883  -0.358824       0  \n",
       "18884  -0.358824       0  \n",
       "18885  -0.358824       0  \n",
       "18886  -0.036798       0  \n",
       "18887  -0.358824       0  \n",
       "\n",
       "[5 rows x 79 columns]"
      ]
     },
     "execution_count": 52,
     "metadata": {},
     "output_type": "execute_result"
    }
   ],
   "source": [
    "filtered_df.head()"
   ]
  },
  {
   "cell_type": "code",
   "execution_count": 53,
   "id": "18e01695",
   "metadata": {
    "execution": {
     "iopub.execute_input": "2025-02-22T19:01:37.929518Z",
     "iopub.status.busy": "2025-02-22T19:01:37.929173Z",
     "iopub.status.idle": "2025-02-22T19:01:37.933849Z",
     "shell.execute_reply": "2025-02-22T19:01:37.932987Z"
    },
    "papermill": {
     "duration": 0.256732,
     "end_time": "2025-02-22T19:01:37.935467",
     "exception": false,
     "start_time": "2025-02-22T19:01:37.678735",
     "status": "completed"
    },
    "tags": []
   },
   "outputs": [],
   "source": [
    "filtered = filtered_df.head(10)"
   ]
  },
  {
   "cell_type": "code",
   "execution_count": 54,
   "id": "ead819d7",
   "metadata": {
    "execution": {
     "iopub.execute_input": "2025-02-22T19:01:38.488258Z",
     "iopub.status.busy": "2025-02-22T19:01:38.487877Z",
     "iopub.status.idle": "2025-02-22T19:01:38.496791Z",
     "shell.execute_reply": "2025-02-22T19:01:38.495980Z"
    },
    "papermill": {
     "duration": 0.312984,
     "end_time": "2025-02-22T19:01:38.498440",
     "exception": false,
     "start_time": "2025-02-22T19:01:38.185456",
     "status": "completed"
    },
    "tags": []
   },
   "outputs": [],
   "source": [
    "filtered.to_csv('filtered.csv', index=False)\n"
   ]
  },
  {
   "cell_type": "code",
   "execution_count": 55,
   "id": "0c8cbe7d",
   "metadata": {
    "execution": {
     "iopub.execute_input": "2025-02-22T19:01:38.997853Z",
     "iopub.status.busy": "2025-02-22T19:01:38.997493Z",
     "iopub.status.idle": "2025-02-22T19:01:39.005058Z",
     "shell.execute_reply": "2025-02-22T19:01:39.004407Z"
    },
    "papermill": {
     "duration": 0.261651,
     "end_time": "2025-02-22T19:01:39.006837",
     "exception": false,
     "start_time": "2025-02-22T19:01:38.745186",
     "status": "completed"
    },
    "tags": []
   },
   "outputs": [],
   "source": [
    "t = pd.read_csv('filtered.csv')"
   ]
  },
  {
   "cell_type": "code",
   "execution_count": 56,
   "id": "178bdb0d",
   "metadata": {
    "execution": {
     "iopub.execute_input": "2025-02-22T19:01:39.511114Z",
     "iopub.status.busy": "2025-02-22T19:01:39.510246Z",
     "iopub.status.idle": "2025-02-22T19:01:39.515803Z",
     "shell.execute_reply": "2025-02-22T19:01:39.514985Z"
    },
    "papermill": {
     "duration": 0.258249,
     "end_time": "2025-02-22T19:01:39.517417",
     "exception": false,
     "start_time": "2025-02-22T19:01:39.259168",
     "status": "completed"
    },
    "tags": []
   },
   "outputs": [
    {
     "data": {
      "text/plain": [
       "(10, 79)"
      ]
     },
     "execution_count": 56,
     "metadata": {},
     "output_type": "execute_result"
    }
   ],
   "source": [
    "t.shape"
   ]
  },
  {
   "cell_type": "code",
   "execution_count": 57,
   "id": "08e47b0a",
   "metadata": {
    "execution": {
     "iopub.execute_input": "2025-02-22T19:01:40.067254Z",
     "iopub.status.busy": "2025-02-22T19:01:40.066871Z",
     "iopub.status.idle": "2025-02-22T19:01:40.072103Z",
     "shell.execute_reply": "2025-02-22T19:01:40.071329Z"
    },
    "papermill": {
     "duration": 0.260271,
     "end_time": "2025-02-22T19:01:40.073823",
     "exception": false,
     "start_time": "2025-02-22T19:01:39.813552",
     "status": "completed"
    },
    "tags": []
   },
   "outputs": [],
   "source": [
    "t = t.drop([\" Label\"],axis=1)"
   ]
  },
  {
   "cell_type": "code",
   "execution_count": null,
   "id": "6608e835",
   "metadata": {
    "papermill": {
     "duration": 0.249403,
     "end_time": "2025-02-22T19:01:40.577311",
     "exception": false,
     "start_time": "2025-02-22T19:01:40.327908",
     "status": "completed"
    },
    "tags": []
   },
   "outputs": [],
   "source": []
  },
  {
   "cell_type": "code",
   "execution_count": null,
   "id": "35e5a158",
   "metadata": {
    "execution": {
     "iopub.execute_input": "2025-02-22T19:01:41.130781Z",
     "iopub.status.busy": "2025-02-22T19:01:41.130390Z",
     "iopub.status.idle": "2025-02-22T19:01:41.222249Z",
     "shell.execute_reply": "2025-02-22T19:01:41.221519Z"
    },
    "papermill": {
     "duration": 0.397674,
     "end_time": "2025-02-22T19:01:41.224326",
     "exception": false,
     "start_time": "2025-02-22T19:01:40.826652",
     "status": "completed"
    },
    "tags": []
   },
   "outputs": [],
   "source": [
    "import joblib\n",
    "import tensorflow as tf\n",
    "scaler = joblib.load(\"scaler.joblib\")\n",
    "pca = joblib.load(\"pca.joblib\")\n",
    "\n",
    "\n",
    "model = tf.keras.models.load_model(\"model.h5\")"
   ]
  },
  {
   "cell_type": "code",
   "execution_count": null,
   "id": "1deedad9",
   "metadata": {
    "execution": {
     "iopub.execute_input": "2025-02-22T19:01:41.731563Z",
     "iopub.status.busy": "2025-02-22T19:01:41.731212Z",
     "iopub.status.idle": "2025-02-22T19:01:41.995453Z",
     "shell.execute_reply": "2025-02-22T19:01:41.994761Z"
    },
    "papermill": {
     "duration": 0.51635,
     "end_time": "2025-02-22T19:01:41.997296",
     "exception": false,
     "start_time": "2025-02-22T19:01:41.480946",
     "status": "completed"
    },
    "tags": []
   },
   "outputs": [
    {
     "name": "stdout",
     "output_type": "stream",
     "text": [
      "\u001b[1m1/1\u001b[0m \u001b[32m━━━━━━━━━━━━━━━━━━━━\u001b[0m\u001b[37m\u001b[0m \u001b[1m0s\u001b[0m 216ms/step\n"
     ]
    }
   ],
   "source": [
    "\n",
    "    \n",
    "\n",
    "data_pca = pca.transform(t)\n",
    "    \n",
    "\n",
    "predictions = model.predict(data_pca)\n",
    "    "
   ]
  },
  {
   "cell_type": "code",
   "execution_count": 60,
   "id": "8ef7c5d8",
   "metadata": {
    "execution": {
     "iopub.execute_input": "2025-02-22T19:01:42.494882Z",
     "iopub.status.busy": "2025-02-22T19:01:42.494254Z",
     "iopub.status.idle": "2025-02-22T19:01:42.500332Z",
     "shell.execute_reply": "2025-02-22T19:01:42.499494Z"
    },
    "papermill": {
     "duration": 0.256162,
     "end_time": "2025-02-22T19:01:42.502019",
     "exception": false,
     "start_time": "2025-02-22T19:01:42.245857",
     "status": "completed"
    },
    "tags": []
   },
   "outputs": [
    {
     "data": {
      "text/plain": [
       "array([[3.3289276e-02],\n",
       "       [4.8328847e-01],\n",
       "       [5.0610438e-02],\n",
       "       [2.9961491e-04],\n",
       "       [9.7720800e-03],\n",
       "       [1.1917136e-03],\n",
       "       [9.6224444e-03],\n",
       "       [1.4775869e-04],\n",
       "       [1.1943044e-03],\n",
       "       [1.5970623e-03]], dtype=float32)"
      ]
     },
     "execution_count": 60,
     "metadata": {},
     "output_type": "execute_result"
    }
   ],
   "source": [
    "predictions"
   ]
  },
  {
   "cell_type": "code",
   "execution_count": 61,
   "id": "ff829033",
   "metadata": {
    "execution": {
     "iopub.execute_input": "2025-02-22T19:01:43.047121Z",
     "iopub.status.busy": "2025-02-22T19:01:43.046771Z",
     "iopub.status.idle": "2025-02-22T19:01:43.051053Z",
     "shell.execute_reply": "2025-02-22T19:01:43.050248Z"
    },
    "papermill": {
     "duration": 0.258475,
     "end_time": "2025-02-22T19:01:43.052608",
     "exception": false,
     "start_time": "2025-02-22T19:01:42.794133",
     "status": "completed"
    },
    "tags": []
   },
   "outputs": [],
   "source": [
    "class_predictions = (predictions >= 0.5).astype(int)\n"
   ]
  },
  {
   "cell_type": "code",
   "execution_count": 62,
   "id": "8cc0cc56",
   "metadata": {
    "execution": {
     "iopub.execute_input": "2025-02-22T19:01:43.553305Z",
     "iopub.status.busy": "2025-02-22T19:01:43.552915Z",
     "iopub.status.idle": "2025-02-22T19:01:43.558479Z",
     "shell.execute_reply": "2025-02-22T19:01:43.557693Z"
    },
    "papermill": {
     "duration": 0.257223,
     "end_time": "2025-02-22T19:01:43.560128",
     "exception": false,
     "start_time": "2025-02-22T19:01:43.302905",
     "status": "completed"
    },
    "tags": []
   },
   "outputs": [
    {
     "data": {
      "text/plain": [
       "array([[0],\n",
       "       [0],\n",
       "       [0],\n",
       "       [0],\n",
       "       [0],\n",
       "       [0],\n",
       "       [0],\n",
       "       [0],\n",
       "       [0],\n",
       "       [0]])"
      ]
     },
     "execution_count": 62,
     "metadata": {},
     "output_type": "execute_result"
    }
   ],
   "source": [
    "class_predictions"
   ]
  },
  {
   "cell_type": "code",
   "execution_count": null,
   "id": "a01868a0",
   "metadata": {
    "papermill": {
     "duration": 0.250704,
     "end_time": "2025-02-22T19:01:44.106321",
     "exception": false,
     "start_time": "2025-02-22T19:01:43.855617",
     "status": "completed"
    },
    "tags": []
   },
   "outputs": [],
   "source": []
  }
 ],
 "metadata": {
  "kaggle": {
   "accelerator": "gpu",
   "dataSources": [
    {
     "datasetId": 3674161,
     "sourceId": 6376134,
     "sourceType": "datasetVersion"
    }
   ],
   "dockerImageVersionId": 30804,
   "isGpuEnabled": true,
   "isInternetEnabled": true,
   "language": "python",
   "sourceType": "notebook"
  },
  "kernelspec": {
   "display_name": "Python 3",
   "language": "python",
   "name": "python3"
  },
  "language_info": {
   "codemirror_mode": {
    "name": "ipython",
    "version": 3
   },
   "file_extension": ".py",
   "mimetype": "text/x-python",
   "name": "python",
   "nbconvert_exporter": "python",
   "pygments_lexer": "ipython3",
   "version": "3.10.14"
  },
  "papermill": {
   "default_parameters": {},
   "duration": 587.129188,
   "end_time": "2025-02-22T19:01:47.107507",
   "environment_variables": {},
   "exception": null,
   "input_path": "__notebook__.ipynb",
   "output_path": "__notebook__.ipynb",
   "parameters": {},
   "start_time": "2025-02-22T18:51:59.978319",
   "version": "2.6.0"
  }
 },
 "nbformat": 4,
 "nbformat_minor": 5
}
